{
 "cells": [
  {
   "cell_type": "markdown",
   "metadata": {
    "toc-hr-collapsed": false
   },
   "source": [
    "# FAIR maturity indicators for nanosafety"
   ]
  },
  {
   "cell_type": "markdown",
   "metadata": {},
   "source": [
    "by [Serena Bonaretti](https://sbonaretti.github.io) and [Egon Willighagen](https://egonw.github.io), Maastricht University"
   ]
  },
  {
   "cell_type": "markdown",
   "metadata": {
    "toc-hr-collapsed": true
   },
   "source": [
    "---\n",
    "### Use case"
   ]
  },
  {
   "cell_type": "markdown",
   "metadata": {},
   "source": [
    "This notebook template considers an example use cases of data retrieval in the nanosafety field. For each case, we\n",
    "- Execute data retrieval via API \n",
    "- Evaluate the FAIRness of the dataset\n",
    "\n",
    "This template is derived from [this Jupyter notebook](https://github.com/sbonaretti/FAIR_metrics/blob/master/code/FAIR_assessment_2.ipynb) which has two example use cases."
   ]
  },
  {
   "cell_type": "markdown",
   "metadata": {},
   "source": [
    "The use-cases is:\n",
    "\n",
    "\n",
    "<table>\n",
    "<colgroup>\n",
    "<col style=\"width: 20%\" />\n",
    "<col style=\"width: 80%\" /> \n",
    "</colgroup>\n",
    "    \n",
    "  <tr>\n",
    "    <th></th>\n",
    "    <th>TiO<sub>2</sub></th>\n",
    "  </tr>\n",
    "    \n",
    "  <tr>\n",
    "    <th>Research question</th>\n",
    "    <th>What does the database tell us about the safety of TiO<sub>2</sub>?</th>\n",
    "  </tr>\n",
    "  \n",
    "  <tr>\n",
    "    <th>Dataset</th>\n",
    "    <th>TEMPLATE: SPECIFIC DATASET</th>\n",
    "  </tr>\n",
    "  \n",
    "  <tr>\n",
    "    <th>Repository</th>\n",
    "    <th>TEMPLATE: REPOSITORY</th>\n",
    "  </tr>\n",
    "\n",
    "</table>\n",
    "\n",
    "\n"
   ]
  },
  {
   "cell_type": "markdown",
   "metadata": {},
   "source": [
    "Information about repository:\n",
    "- **TEMPLATE: REPOSITORY**:\n",
    "  - API: \n",
    "    - Documentation at TEMPLATE: URL\n",
    "    - The API to query the repository is a rest API: TEMPLATE: REST URL\n",
    "    - The API to get data is an FTP API: TEMPLATE: FTP URL\n",
    "  - Data structure:\n",
    "    - Metadata are separated in two different layers, accessible via:\n",
    "      - Generic metadata: accessible via rest API  \n",
    "      - Specific metadata: accessible via FTP API"
   ]
  },
  {
   "cell_type": "markdown",
   "metadata": {},
   "source": [
    "---"
   ]
  },
  {
   "cell_type": "markdown",
   "metadata": {
    "toc-hr-collapsed": true
   },
   "source": [
    "### Calculating FAIR metrics"
   ]
  },
  {
   "cell_type": "markdown",
   "metadata": {},
   "source": [
    "[Prerequisites:](#prerequisites)  \n",
    "- [Imports](#imports)  \n",
    "- [Variables](#variables)  \n",
    "- [Functions](#functions)  \n",
    "\n",
    "[Retrieving datasets:](#retrieval)  \n",
    "- [Case: TEMPLATE: REPOSITORY](#Repository)\n",
    "\n",
    "[Retrieving repositories in www.re3data.org](#Retrieving_repositories_in_www.re3data.org)\n",
    "\n",
    "\n",
    "[FAIR assessment:](#metrics) \n",
    "- [F1. (Meta)data are assigned a globally unique and persistent identifier](#F1) \n",
    "- [F2. Data are described with rich metadata](#F2) \n",
    "- [F3. Metadata clearly and explicitly include the identifier of the data it describes](#F3)  \n",
    "- [F4. (Meta)data are registered or indexed in a searchable resource](#F4) \n",
    "- [A1. (Meta)data are retrievable by their identifier using a standardized communications protocol](#A1)    \n",
    "- [A1.1 The protocol is open, free, and universally implementable](#A11)   \n",
    "- [A1.2 The protocol allows for an authentication and authorization procedure, where necessary](#A12)   \n",
    "- [A2. Metadata are accessible, even when the data are no longer available](#A2)  \n",
    "- [I1. (Meta)data use a formal, accessible, shared, and broadly applicable language for knowledge representation](#I1) \n",
    "- [I2. Metadata use vocabularies that follow FAIR principles](#I2)  \n",
    "- [I3. (Meta)data include qualified references to other (meta)data](#I3)   \n",
    "- [R1.1. (Meta)data are released with a clear and accessible data usage license](#R11)  \n",
    "- [R1.2. (Meta)data are associated with detailed provenance](#R12)  \n",
    "- [R1.3. (Meta)data meet domain-relevant community standards](#R13)\n",
    "\n",
    "[FAIR assessment visualization](#visualization)\n",
    "\n",
    "[Dependencies](#dependencies)\n",
    "\n",
    "[Supplementary information](#supplementary_information)"
   ]
  },
  {
   "cell_type": "markdown",
   "metadata": {},
   "source": [
    "---"
   ]
  },
  {
   "cell_type": "markdown",
   "metadata": {},
   "source": [
    "<a name=\"prerequisites\"></a>\n",
    "### Prerequisites"
   ]
  },
  {
   "cell_type": "markdown",
   "metadata": {},
   "source": [
    "<a name=\"imports\"></a>\n",
    "#### Imports"
   ]
  },
  {
   "cell_type": "code",
   "execution_count": null,
   "metadata": {},
   "outputs": [],
   "source": [
    "# import python packages\n",
    "import os\n",
    "import pandas as pd\n",
    "import requests\n",
    "import time\n",
    "import xml.etree.ElementTree as ET\n",
    "from io import StringIO"
   ]
  },
  {
   "cell_type": "code",
   "execution_count": null,
   "metadata": {},
   "outputs": [],
   "source": [
    "# Import R for visualization using ggplot2 - comment if used in mybinder, uncomment if used locally\n",
    "#os.environ['R_HOME'] = '/Library/Frameworks/R.framework/Resources' # put here your own R directory "
   ]
  },
  {
   "cell_type": "code",
   "execution_count": null,
   "metadata": {},
   "outputs": [],
   "source": [
    "%load_ext rpy2.ipython"
   ]
  },
  {
   "cell_type": "markdown",
   "metadata": {},
   "source": [
    "<a name=\"variables\"></a>\n",
    "#### Variables"
   ]
  },
  {
   "cell_type": "code",
   "execution_count": null,
   "metadata": {},
   "outputs": [],
   "source": [
    "# re3Data API\n",
    "re3data_repos    = \"https://www.re3data.org/api/v1/repositories\"\n",
    "re3data_repo     = \"https://www.re3data.org/api/v1/repository\"\n",
    "re3data_schema   = '{http://www.re3data.org/schema/2-2}' # in the metadata xml"
   ]
  },
  {
   "cell_type": "code",
   "execution_count": null,
   "metadata": {},
   "outputs": [],
   "source": [
    "# repository variables\n",
    "repository_name  = []\n",
    "repository_api   = []\n",
    "dataset_download = []\n",
    "\n",
    "# TEMPLATE: REPOSITORY\n",
    "repository_name.append(\"TEMPLATE: REPOSITORY\")\n",
    "repository_api.append(\"TEMPLATE: REPOSITORY API URL\")\n",
    "dataset_download.append(\"TEMPLATE: REPOSITORY FILE DOWNLOAD URL\")"
   ]
  },
  {
   "cell_type": "code",
   "execution_count": null,
   "metadata": {},
   "outputs": [],
   "source": [
    "# case names\n",
    "case_names        = []\n",
    "case_names.append(\"TEMPLATE: REPOSITORY\")"
   ]
  },
  {
   "cell_type": "code",
   "execution_count": null,
   "metadata": {},
   "outputs": [],
   "source": [
    "# search keywords\n",
    "keywords = []\n",
    "\n",
    "# TEMPLATE: REPOSITORY\n",
    "kw = []\n",
    "kw.append(\"titanium dioxide\")\n",
    "keywords.append(kw)\n"
   ]
  },
  {
   "cell_type": "code",
   "execution_count": null,
   "metadata": {},
   "outputs": [],
   "source": [
    "# output variables used for FAIR assessment\n",
    "\n",
    "request_status        = []\n",
    "metadata_xml          = [] \n",
    "metadata_list         = [] # list of lists. Dimension: n_of_cases x 1. \n",
    "                           # Inside each cell, list of dimension 2 x N. First row is tags, second row is text of the xml output containing metadata\n",
    "re3data_repo_root     = []\n",
    "re3data_metadata_list = [] # same structure as metadata_list\n",
    "n_of_found_keywords   = []\n",
    "dataset_title         = []\n",
    "\n",
    "F1  = []\n",
    "F2  = []\n",
    "F3  = []\n",
    "F4  = []\n",
    "A1  = []\n",
    "A11 = []\n",
    "A12 = []\n",
    "A2  = []\n",
    "I1  = []\n",
    "I2  = []\n",
    "I3  = []\n",
    "R1  = []\n",
    "R11 = []\n",
    "R12 = []\n",
    "R13 = []"
   ]
  },
  {
   "cell_type": "markdown",
   "metadata": {},
   "source": [
    "<a name=\"functions\"></a>\n",
    "#### Functions"
   ]
  },
  {
   "cell_type": "code",
   "execution_count": null,
   "metadata": {},
   "outputs": [],
   "source": [
    "def find_repo_in_re3_data (repository_name):\n",
    "    \"\"\"\n",
    "    It retrieves metadata about the input repository in re3data.org\n",
    "    \"\"\"\n",
    "    \n",
    "    # contact the re3data\n",
    "    re3data_r = requests.get(re3data_repos)\n",
    "    if re3data_r == None:\n",
    "        return None\n",
    "    \n",
    "    # put output string in a structured xml tree\n",
    "    re3data_root = ET.fromstring(re3data_r.text)\n",
    "\n",
    "    # look for the wanted repository\n",
    "    flag = 0\n",
    "    for i in range (0, len(re3data_root)):\n",
    "        if re3data_root[i][1].text == repository_name: # first index is a <repository> group, \n",
    "                                                       # second index is for the tags inside (<id>, <name>, <link>)\n",
    "            flag = 1\n",
    "            repository_index = i\n",
    "\n",
    "    if flag == 1:   \n",
    "        \n",
    "        re3data_metadata_address = str(re3data_root[repository_index][2].attrib[\"href\"])\n",
    "        #print (\"Index in list: \" + str(repository_index))\n",
    "        #print (\"Tag          : \" + str(re3data_root[repository_index][1].tag))\n",
    "        #print (\"Text         : \" + str(re3data_root[repository_index][1].text))\n",
    "        #print (\"Tag          : \" + str(re3data_root[repository_index][2].tag))\n",
    "        #print (\"Attribute    : \" + str(re3data_root[repository_index][2].attrib)) # attributes do not have a closing tag\n",
    "\n",
    "    else: \n",
    "        print (\"Repository not found\")\n",
    "        return None\n",
    "        \n",
    "    return re3data_metadata_address"
   ]
  },
  {
   "cell_type": "code",
   "execution_count": null,
   "metadata": {},
   "outputs": [],
   "source": [
    "def pretty_print_xml (root): \n",
    "    \"\"\"\n",
    "    It prints xml with identations\n",
    "    \"\"\"\n",
    "    \n",
    "    count = 0\n",
    "    for i in range (0, len(root)):\n",
    "\n",
    "        if len(root[i]) == 0:\n",
    "            print (\"<\"  + str(root[i].tag) + \">\")\n",
    "            print (\"   \" + str(root[i].text))\n",
    "            count = count + 1\n",
    "        else: \n",
    "            for j in range(0, len(root[i])):\n",
    "                if len(root[i][j]) == 0:\n",
    "                    print (\"<\"  + str(root[i][j].tag) + \">\")\n",
    "                    print (\"   \" + str(root[i][j].text))\n",
    "                    print (\"<\"  + str(root[i][j].tag + \">\"))\n",
    "                    count = count + 1\n",
    "                else: \n",
    "                    for k in range (0, len(root[i][j])):\n",
    "                        print (\"  <\"  + str(root[i][j][k].tag + \">\"))\n",
    "                        print (\"      \" + str(root[i][j][k].text))\n",
    "                        count = count + 1\n",
    "    return count"
   ]
  },
  {
   "cell_type": "code",
   "execution_count": null,
   "metadata": {},
   "outputs": [],
   "source": [
    "def xml_to_list(root): \n",
    "    \n",
    "    \"\"\"\n",
    "    It creates a list with dimensions 2xN, where N is the number of tags in the xml file. The first row contains tags and the second row text\n",
    "    It extracts items that are nested and puts them at the same level as the parent tags\n",
    "    \"\"\"\n",
    "    \n",
    "    xml_list_tag = []\n",
    "    xml_list_text = []\n",
    "    \n",
    "    for i in range (0, len(root)):\n",
    "\n",
    "        if len(root[i]) == 0:\n",
    "            tag  = str(root[i].tag)\n",
    "            text = str(root[i].text)\n",
    "            xml_list_tag.append(tag.lower()) # all strings in lower case for easier string finding\n",
    "            xml_list_text.append(text.lower())\n",
    "        else: \n",
    "            for j in range(0, len(root[i])):\n",
    "                if len(root[i][j]) == 0:\n",
    "                    tag  = str(root[i][j].tag)\n",
    "                    text = str(root[i][j].text)\n",
    "                    xml_list_tag.append(tag.lower()) \n",
    "                    xml_list_text.append(text.lower())\n",
    "                else: \n",
    "                    for k in range (0, len(root[i][j])):\n",
    "                        tag  = str(root[i][j][k].tag)\n",
    "                        text = str(root[i][j][k].text)\n",
    "                        xml_list_tag.append(tag.lower()) \n",
    "                        xml_list_text.append(text.lower())\n",
    "    \n",
    "    xml_list = [ xml_list_tag, xml_list_text ]\n",
    "    \n",
    "    return xml_list"
   ]
  },
  {
   "cell_type": "code",
   "execution_count": null,
   "metadata": {},
   "outputs": [],
   "source": [
    "def find_list_in_list(long_list, short_list):\n",
    "    \"\"\"\n",
    "    For each items of short_list, it looks in the long_list\n",
    "    It uses a \"for\" loop because it has to look also for parts of string\n",
    "    Inputs: \n",
    "     long_list: long list of strings\n",
    "     short_list: short list of strings\n",
    "    Outputs:\n",
    "     found: elements of short_list found in long_list\n",
    "     index: index of found elements in long_list   \n",
    "    \"\"\"\n",
    "    \n",
    "    found = []\n",
    "    index = []\n",
    "    for i in range(0, len(long_list)):\n",
    "        for j in range(0, len(short_list)):\n",
    "            if long_list[i].find(short_list[j]) != -1 :\n",
    "                found.append(short_list[j])\n",
    "                index.append(i)\n",
    "    return found, index"
   ]
  },
  {
   "cell_type": "markdown",
   "metadata": {},
   "source": [
    "---"
   ]
  },
  {
   "cell_type": "markdown",
   "metadata": {},
   "source": [
    "<a name=\"retrieval\"></a>\n",
    "### Retrieving datasets "
   ]
  },
  {
   "cell_type": "markdown",
   "metadata": {},
   "source": [
    "<a name=\"Repository\"></a>\n",
    "#### Case: TEMPLATE: REPOSITORY"
   ]
  },
  {
   "cell_type": "code",
   "execution_count": null,
   "metadata": {},
   "outputs": [],
   "source": [
    "case_id = 0"
   ]
  },
  {
   "cell_type": "markdown",
   "metadata": {},
   "source": [
    "The below test assumes a certain API with parameters. For example, the below code uses `keywords`\n",
    "as API parameter to pass keywords. The template code likely needs updating."
   ]
  },
  {
   "cell_type": "code",
   "execution_count": null,
   "metadata": {},
   "outputs": [],
   "source": [
    "# getting dataset\n",
    "start_time = time.time()\n",
    "r_repo = requests.get(repository_api[case_id],\n",
    "                  params={\"keywords\"      :  keywords[case_id][0]})\n",
    "\n",
    "print (\"-> The time to retrieve the dataset was %.2f seconds\" % ((time.time() - start_time)))\n",
    "\n",
    "# add request status\n",
    "request_status.append(r_repo.status_code)\n",
    "\n",
    "# convert answer from string to xml_tree\n",
    "root = ET.fromstring(r_repo.text)\n",
    "print(\"number of datasets found: \" + str (len(root)))"
   ]
  },
  {
   "cell_type": "markdown",
   "metadata": {},
   "source": [
    "Because the query via API reports 2 results, we have to investigate a second layer of metadata that is not provided in the API but is part of the downloadable package.  \n",
    "We use this metadata only to to select the dataset to use, not to assess FAIRness.\n",
    "\n",
    "This section is also resource specific and may need updating."
   ]
  },
  {
   "cell_type": "code",
   "execution_count": null,
   "metadata": {},
   "outputs": [],
   "source": [
    "# look for experiment_id \n",
    "experiment_id = []\n",
    "\n",
    "if root != None:\n",
    "    for accession in root.iter('accession'):\n",
    "        if len(accession.text) == 11:\n",
    "            experiment_id.append(accession.text)\n",
    "print (experiment_id)"
   ]
  },
  {
   "cell_type": "code",
   "execution_count": null,
   "metadata": {},
   "outputs": [],
   "source": [
    "# get metadata of dataset 1\n",
    "if len(experiment_id) > 0:\n",
    "    d1_url = dataset_download[0] + experiment_id[0] + \"/\"\n",
    "    d1_r = requests.get(d1_url)\n",
    "    # pass output to ET\n",
    "    d1_root = ET.fromstring(d1_r.text)\n",
    "\n",
    "    # look for urls of file names to download\n",
    "    for url in d1_root.iter('url'):\n",
    "        if \"sdrf.txt\" in str(url.text):\n",
    "            d1_sdrf_name = url.text\n",
    "    \n",
    "    # get file\n",
    "    df1_r = requests.get(d1_sdrf_name)\n",
    "\n",
    "    # convert string tabular text to pandas dataframe\n",
    "    full_string = StringIO(df1_r.text)\n",
    "    df1 = pd.read_csv(full_string, sep=\"\\t\")\n",
    "    # df1\n",
    "\n",
    "    # check how many columns with \"Parkinson's desease\" correspond to \"frontal lobe\"\n",
    "    b = df1[ ( df1[\"Characteristics[DiseaseState]\"] == \"Parkinson's disease\" ) & (df1[\"Characteristics[OrganismPart]\"] == \"frontal lobe\")]\n",
    "    df1_n_of_corresponding_rows = b.shape[0]\n",
    "    #b"
   ]
  },
  {
   "cell_type": "code",
   "execution_count": null,
   "metadata": {},
   "outputs": [],
   "source": [
    "# select the dataset\n",
    "if len(experiment_id) > 0:\n",
    "    if df1_n_of_corresponding_rows > df2_n_of_corresponding_rows:\n",
    "        # metadata in xml\n",
    "        #metadata.append(root[0])\n",
    "        # metadata in list\n",
    "        metadata_xml.append(root[0])\n",
    "        metadata_list.append(xml_to_list(root[0]))\n",
    "        print (\"Using dataset: \" + str(experiment_id[0]))\n",
    "    else: \n",
    "        # metadata in xml\n",
    "        #metadata.append(root[1])\n",
    "        # metadata in list\n",
    "        metadata_xml.append(root[1])\n",
    "        metadata_list.append(xml_to_list(root[1]))\n",
    "        print (\"Using dataset: \" + str(experiment_id[0]))"
   ]
  },
  {
   "cell_type": "code",
   "execution_count": null,
   "metadata": {},
   "outputs": [],
   "source": [
    "# print metadata\n",
    "# pretty_print_xml (metadata[case_id])"
   ]
  },
  {
   "cell_type": "markdown",
   "metadata": {},
   "source": [
    "<a name=\"Retrieving_repositories_in_www.re3data.org\"></a>\n",
    "### Retrieving repositories in www.re3data.org"
   ]
  },
  {
   "cell_type": "code",
   "execution_count": null,
   "metadata": {},
   "outputs": [],
   "source": [
    "start_time = time.time()\n",
    "\n",
    "for case_id in range (0, len(repository_name)):  \n",
    "    \n",
    "    print (\"- \" + repository_name[case_id])\n",
    "        \n",
    "    # extract repository metadata\n",
    "    re3data_metadata_address = find_repo_in_re3_data (repository_name[case_id])\n",
    "\n",
    "    if re3data_metadata_address != None:\n",
    "        # extract repository number \n",
    "        repository_number = re3data_metadata_address[re3data_metadata_address.rfind('/') : len(re3data_metadata_address)]\n",
    "\n",
    "        # metadata_url\n",
    "        metadata_url      = re3data_repo + str(repository_number)\n",
    "\n",
    "        # access the repository metadata \n",
    "        re3data_repo_r = requests.get(metadata_url)\n",
    "\n",
    "        # put the output string in a structured xml tree\n",
    "        re3data_repo_root.append(ET.fromstring(re3data_repo_r.text)) # saved if needed for pretty_print_xml visualization\n",
    "    \n",
    "        # put the output string in a list of lists\n",
    "        re3data_metadata_list.append(xml_to_list(re3data_repo_root[case_id]))\n",
    "       \n",
    "print (\"-> The time to retrieve the information was %.2f seconds\" % ((time.time() - start_time)))"
   ]
  },
  {
   "cell_type": "markdown",
   "metadata": {},
   "source": [
    "---"
   ]
  },
  {
   "cell_type": "markdown",
   "metadata": {},
   "source": [
    "<a name=\"metrics\"></a>\n",
    "### FAIR assessment"
   ]
  },
  {
   "cell_type": "markdown",
   "metadata": {},
   "source": [
    "---"
   ]
  },
  {
   "cell_type": "markdown",
   "metadata": {},
   "source": [
    "<a name=\"F1\"></a>\n",
    "#### F1. (Meta)data are assigned a globally unique and persistent identifier\n",
    "We used www.re3data.org to check whether the repository provides a globally unique and persistent identifier.  \n",
    "Because it is not possible to retrieve this information via API, we manually checked the \"doi\" icon at the top-right of each repository page. \n",
    "We manually assigned: \n",
    "- `1` when the hovered icon stated: *The research data repository uses DOI to make its provided data persistent, unique and citable* \n",
    "- `0` when the hovered icon stated: *The research data repository does not use a persistent identifier system*  "
   ]
  },
  {
   "cell_type": "code",
   "execution_count": null,
   "metadata": {},
   "outputs": [],
   "source": [
    "# Parkinson_AE\n",
    "F1.append(0) # information retrieved at: https://www.re3data.org/repository/r3d100010222\n",
    "\n",
    "# Print out F1 values\n",
    "print (\"--> F1 are: \" + str(F1) )"
   ]
  },
  {
   "cell_type": "markdown",
   "metadata": {},
   "source": [
    "---"
   ]
  },
  {
   "cell_type": "markdown",
   "metadata": {},
   "source": [
    "<a name=\"F2\"></a>\n",
    "#### F2. Data are described with rich metadata \n",
    "\n",
    "Metadata contain the keywords used in the query"
   ]
  },
  {
   "cell_type": "code",
   "execution_count": null,
   "metadata": {},
   "outputs": [],
   "source": [
    "if (len(metadata_list) == 0):\n",
    "    F2.append(0)\n",
    "    print (\"    No registered with re3data.org\")\n",
    "else:\n",
    "    for case_id in range (0, len(repository_name)):\n",
    "    \n",
    "        # in ArrayExpress the keyworkd \"true\" used for `request` becomes `rawdata` in metafile\n",
    "        if case_id == 0:\n",
    "            keywords[case_id][-1] = \"rawdata\"\n",
    "    \n",
    "        # look for keywords in metadata text \n",
    "        output, index = find_list_in_list(metadata_list[case_id][1], keywords[case_id]) # metadata_list[0] is tags, metadata_list[1] is text\n",
    "    \n",
    "        # get unique found keywords (one keyword can be present more than once\n",
    "        found = list(set(output) ) \n",
    "\n",
    "        # print out found keywords\n",
    "        print (\"- \" + repository_name[case_id])\n",
    "        print (\"    \" + str(found))\n",
    "    \n",
    "        # n of keywords found - used in R1\n",
    "        n_of_found_keywords.append(len(found))\n",
    "\n",
    "        # assign F2\n",
    "        if len(found) == 0: # none of the search keywords are in the metafile data\n",
    "            F2.append(0)\n",
    "            print (\"    No keyword found\")\n",
    "        else:\n",
    "            F2.append(len(found)/len(keywords[case_id]))\n",
    "            print (\"    Found \" + str(len(found)) + \" keywords\")\n",
    "\n",
    "# print F2\n",
    "print (\"--> F2: \" + str(F2))"
   ]
  },
  {
   "cell_type": "markdown",
   "metadata": {},
   "source": [
    "---"
   ]
  },
  {
   "cell_type": "markdown",
   "metadata": {},
   "source": [
    "<a name=\"F3\"></a>\n",
    "#### F3. Metadata clearly and explicitly include the identifier of the data it describes  "
   ]
  },
  {
   "cell_type": "code",
   "execution_count": null,
   "metadata": {},
   "outputs": [],
   "source": [
    "if (len(metadata_list) == 0):\n",
    "    F2.append(0)\n",
    "    print (\"    No registered with re3data.org\")\n",
    "else:\n",
    "    for case_id in range (0, len(repository_name)):\n",
    "    \n",
    "        # look for keywords in metadata tag\n",
    "        output, index = find_list_in_list(metadata_list[case_id][0], [\"id\"]) # metadata_list[0] is tags, metadata_list[1] is text\n",
    "        print (\"- \" + repository_name[case_id])\n",
    "    \n",
    "        # both in Parkinson_AE and NBIA_GEO metadata there are various \"id\" tags. The one that refers to the datset is the first (=> index[0])\n",
    "        print (\"id: \" + metadata_list[case_id][1][index[0]])\n",
    "    \n",
    "        F3.append(1)\n",
    "          \n",
    "print (\"--> F3: \" + str(F3) )"
   ]
  },
  {
   "cell_type": "markdown",
   "metadata": {},
   "source": [
    "---"
   ]
  },
  {
   "cell_type": "markdown",
   "metadata": {},
   "source": [
    "<a name=\"F4\"></a>\n",
    "#### F4. (Meta)data are registered or indexed in a searchable resource\n",
    "\n",
    "Manual search for the dataset title in [Google Dataset Search](https://toolbox.google.com/datasetsearch)"
   ]
  },
  {
   "cell_type": "code",
   "execution_count": null,
   "metadata": {},
   "outputs": [],
   "source": [
    "# get dataset titles\n",
    "\n",
    "# TEMPLATE: REPOSITORY\n",
    "case_id = 0\n",
    "if (len(metadata_list) == 0):\n",
    "    print (\"    No registered with re3data.org\")\n",
    "else:\n",
    "    output, index = find_list_in_list(metadata_list[case_id][0], [\"name\"]) # metadata_list[0] is tags, metadata_list[1] is text\n",
    "    dataset_title.append(metadata_list[case_id][1][index[0]]) # there are 4 tags \"name\". the dataset title is the first (=> index[0])\n",
    "        \n",
    "    # print out\n",
    "    print (\"Dataset titles: \")\n",
    "    for i in range(0, len(dataset_title)): \n",
    "        print (case_names[i] + \": \"+ dataset_title[i])\n",
    "    \n",
    "# manually find dataset in Google Dataset Search\n",
    "F4.append(1)    # Parkinson_AE: https://toolbox.google.com/datasetsearch/search?query=Transcription%20profiling%20by%20array%20of%20human%20frontal%20cortex%20(area%208)%20from%20Parkinson%20disease%20cases%20and%20controls&docid=eYq%2F%2Bx3Qkyz18DYbAAAAAA%3D%3D\n",
    "\n",
    "print (\"--> F4: \" + str(F4) )"
   ]
  },
  {
   "cell_type": "markdown",
   "metadata": {},
   "source": [
    "---"
   ]
  },
  {
   "cell_type": "markdown",
   "metadata": {},
   "source": [
    "<a name=\"A1\"></a>\n",
    "#### A1. Metadata are retrievable by their identifier using a standardized communications protocol   \n",
    "\n",
    "In this implementation we retrieve information only via HTTP, so we check whether the request response is 200 (= site responding)"
   ]
  },
  {
   "cell_type": "code",
   "execution_count": null,
   "metadata": {},
   "outputs": [],
   "source": [
    "# for all use cases\n",
    "for i in range(0, len(request_status)):\n",
    "    if request_status[i] == 200:\n",
    "        A1.append(1) \n",
    "    else:\n",
    "        A1.append(0)  \n",
    "\n",
    "print (\"--> A1: \" + str(A1)) "
   ]
  },
  {
   "cell_type": "markdown",
   "metadata": {},
   "source": [
    "<a name=\"A11\"></a>\n",
    "#### A1.1 The protocol is open, free, and universally implementable\n",
    "\n",
    "In this implementation we retrieve information only via HTTP, so if A1=1 then A11=1"
   ]
  },
  {
   "cell_type": "code",
   "execution_count": null,
   "metadata": {},
   "outputs": [],
   "source": [
    "# for all use cases\n",
    "for case_id in range (0, len(A1)):\n",
    "    if A1[case_id] == 1:\n",
    "        A11.append(1)\n",
    "    else:\n",
    "        A11.append(None)\n",
    "        \n",
    "print (\"--> A11: \" + str(A11)) "
   ]
  },
  {
   "cell_type": "markdown",
   "metadata": {},
   "source": [
    "<a name=\"A12\"></a>\n",
    "#### A1.2 The protocol allows for an authentication and authorization procedure, where necessary\n",
    "In this implementation we retrieve information only via HTTP, so if A1=1 then A11=1"
   ]
  },
  {
   "cell_type": "code",
   "execution_count": null,
   "metadata": {},
   "outputs": [],
   "source": [
    "# for all use cases\n",
    "for case_id in range (0, len(A1)):\n",
    "    if A1[case_id] == 1:\n",
    "        A12.append(1)\n",
    "    else:\n",
    "        A12.append(None)\n",
    "        \n",
    "print (\"--> A12: \" + str(A12)) "
   ]
  },
  {
   "cell_type": "markdown",
   "metadata": {},
   "source": [
    "<a name=\"A2\"></a>\n",
    "#### A2. Metadata are accessible, even when the data are no longer available  \n",
    "\n",
    "We look for `data availability policy` in the repository metadata extracted from www.re3data.org"
   ]
  },
  {
   "cell_type": "code",
   "execution_count": null,
   "metadata": {},
   "outputs": [],
   "source": [
    "start_time = time.time()\n",
    "\n",
    "for case_id in range (0, len(repository_name)):  \n",
    "    \n",
    "    print (\"- \" + repository_name[case_id])\n",
    "            \n",
    "    # find the policy\n",
    "    if len(re3data_metadata_list) == 0:\n",
    "        A2.append(0)\n",
    "    else:\n",
    "        output, index = find_list_in_list(re3data_metadata_list[case_id][1], [\"data availability  policy\"])\n",
    "        if len(index) != 0: \n",
    "            print (\"    Policy at: \" + re3data_metadata_list[case_id][1][index[0]+1]) # \n",
    "            A2.append(1)\n",
    "        else:\n",
    "            print (\"    Policy not found\")\n",
    "            A2.append(0)\n",
    "        \n",
    "print (\"-> The time to retrieve the information was %.2f seconds\" % ((time.time() - start_time)))\n",
    "\n",
    "print (\"--> A2: \" + str(A2)) "
   ]
  },
  {
   "cell_type": "markdown",
   "metadata": {},
   "source": [
    "---"
   ]
  },
  {
   "cell_type": "markdown",
   "metadata": {},
   "source": [
    "<a name=\"I1\"></a>\n",
    "#### I1. Metadata use a formal, accessible, shared, and broadly applicable language for knowledge representation \n",
    "\n",
    "We manually check the metadata format"
   ]
  },
  {
   "cell_type": "code",
   "execution_count": null,
   "metadata": {},
   "outputs": [],
   "source": [
    "I1.append(1) # Parkinson_AE  : XML (https://www.ebi.ac.uk/arrayexpress/help/programmatic_access.html#Format_XML_results)\n",
    "\n",
    "print (\"--> I1: \" + str(I1) )    "
   ]
  },
  {
   "cell_type": "markdown",
   "metadata": {},
   "source": [
    "---"
   ]
  },
  {
   "cell_type": "markdown",
   "metadata": {},
   "source": [
    "<a name=\"I2\"></a>\n",
    "#### I2. Metadata use vocabularies that follow FAIR principles\n",
    "We did not assess this principle, so we assign `None` to the metric"
   ]
  },
  {
   "cell_type": "code",
   "execution_count": null,
   "metadata": {},
   "outputs": [],
   "source": [
    "# Parkinson_AE\n",
    "I2.append(-0.001) \n",
    "\n",
    "print (\"--> I2: \" + str(I2))"
   ]
  },
  {
   "cell_type": "markdown",
   "metadata": {},
   "source": [
    "---"
   ]
  },
  {
   "cell_type": "markdown",
   "metadata": {},
   "source": [
    "<a name=\"I3\"></a>\n",
    "#### I3. (Meta)data include qualified references to other (meta)data  \n",
    "Manually checked if there are references in metadata"
   ]
  },
  {
   "cell_type": "code",
   "execution_count": null,
   "metadata": {},
   "outputs": [],
   "source": [
    "# Parkinson_AE\n",
    "I3.append(0)\n",
    "\n",
    "print (\"--> I3: \" + str(I3))"
   ]
  },
  {
   "cell_type": "markdown",
   "metadata": {},
   "source": [
    "---"
   ]
  },
  {
   "cell_type": "markdown",
   "metadata": {},
   "source": [
    "<a name=\"R1\"></a>\n",
    "#### R1 (meta)data are richly described with a plurality of accurate and relevant attributes \n",
    "Check if there are more metadata than the keywords used in F2"
   ]
  },
  {
   "cell_type": "code",
   "execution_count": null,
   "metadata": {},
   "outputs": [],
   "source": [
    "for case_id in range (0, len(repository_name)):\n",
    "    \n",
    "    if (len(metadata_list) > 0):\n",
    "        total_number_of_metadata = len(metadata_list[case_id][0])\n",
    "        remaining_metadata = total_number_of_metadata - n_of_found_keywords[case_id]\n",
    "    \n",
    "        if remaining_metadata > 0:\n",
    "            R1.append(1)\n",
    "            print (\"Number of metadata excluding keywords: \" + str(remaining_metadata))\n",
    "        else: \n",
    "            R1.append(0)\n",
    "    else:\n",
    "        R1.append(0)\n",
    "\n",
    "print (\"--> R1: \" + str(R1))"
   ]
  },
  {
   "cell_type": "markdown",
   "metadata": {},
   "source": [
    "---"
   ]
  },
  {
   "cell_type": "markdown",
   "metadata": {},
   "source": [
    "<a name=\"R11\"></a>\n",
    "#### R1.1. Metadata are released with a clear and accessible data usage license \n",
    "\n",
    "We look for `datalicensename` and `datalicenseurl` in the repository metadata extracted from www.re3data.org"
   ]
  },
  {
   "cell_type": "code",
   "execution_count": null,
   "metadata": {},
   "outputs": [],
   "source": [
    "for case_id in range (0, len(repository_name)):\n",
    "\n",
    "    print (\"- \" + repository_name[case_id])\n",
    "   \n",
    "    if (len(re3data_metadata_list) > 0):\n",
    "        # find the policy and its url\n",
    "        output_name, index_name = find_list_in_list(re3data_metadata_list[case_id][0], [\"datalicensename\"])\n",
    "        output_url , index_url  = find_list_in_list(re3data_metadata_list[case_id][0], [\"datalicenseurl\"])\n",
    "        for i in range(0, len(index_name)): \n",
    "            print (\"    License name: \" + re3data_metadata_list[case_id][1][index_name[i]])\n",
    "            print (\"    License url : \" + re3data_metadata_list[case_id][1][index_url[i]])\n",
    "    \n",
    "        if output_url != []:\n",
    "            R11.append(1) \n",
    "        else: \n",
    "            R11.append(0)\n",
    "    else:\n",
    "        R11.append(0)\n",
    "\n",
    "print (\"--> R11: \" + str(R11)) \n",
    "\n"
   ]
  },
  {
   "cell_type": "markdown",
   "metadata": {},
   "source": [
    "---"
   ]
  },
  {
   "cell_type": "markdown",
   "metadata": {},
   "source": [
    "<a name=\"R12\"></a>\n",
    "#### R1.2. (Meta)data are associated with detailed provenance  \n",
    "\n",
    "We check whether the dataset metadata contain `authors`, `email` of at least one author, and `title` of related publication "
   ]
  },
  {
   "cell_type": "code",
   "execution_count": null,
   "metadata": {},
   "outputs": [],
   "source": [
    "for case_id in range (0, len(repository_name)):\n",
    "    \n",
    "    print (\"- \" + repository_name[case_id])\n",
    "    \n",
    "    # counter \n",
    "    provenance = 0\n",
    "    \n",
    "    if len(metadata_list) > 0:\n",
    "        # author names\n",
    "        output, index = find_list_in_list(metadata_list[case_id][0], [\"authors\"]) # metadata_list[0] is tags, metadata_list[1] is text\n",
    "        if index != []:\n",
    "            print (\"    authors: \" + metadata_list[case_id][1][index[0]])\n",
    "            provenance = provenance + 1\n",
    "    \n",
    "        # author email\n",
    "        output, index = find_list_in_list(metadata_list[case_id][0], [\"email\"]) # metadata_list[0] is tags, metadata_list[1] is text\n",
    "        if len(index) != 0:\n",
    "            print (\"    email: \" + metadata_list[case_id][1][index[0]])\n",
    "            provenance = provenance + 1\n",
    "    \n",
    "        # publication title\n",
    "        output, index = find_list_in_list(metadata_list[case_id][0], [\"title\"]) # metadata_list[0] is tags, metadata_list[1] is text\n",
    "        if index != []:\n",
    "            print (\"    title: \" + metadata_list[case_id][1][index[0]])\n",
    "            provenance = provenance + 1\n",
    "    \n",
    "        # calculate R12\n",
    "        if provenance == 3:\n",
    "            R12.append(1)\n",
    "        elif provenance == 0: \n",
    "            R12.append(0)\n",
    "        else:\n",
    "            R12.append(0.5)\n",
    "    else:\n",
    "        R12.append(0)\n",
    "\n",
    "print (\"--> R12: \" + str(R12))"
   ]
  },
  {
   "cell_type": "markdown",
   "metadata": {},
   "source": [
    "---"
   ]
  },
  {
   "cell_type": "markdown",
   "metadata": {},
   "source": [
    "<a name=\"R13\"></a>\n",
    "#### R1.3. (Meta)data meet domain-relevant community standards\n",
    "We do not evaluate this metric because of current lack of community standards. We assign `None` to the metric"
   ]
  },
  {
   "cell_type": "code",
   "execution_count": null,
   "metadata": {},
   "outputs": [],
   "source": [
    "# Parkinson_AE\n",
    "R13.append(-0.001)\n",
    "\n",
    "print (\"--> R13: \" + str(R13))"
   ]
  },
  {
   "cell_type": "markdown",
   "metadata": {},
   "source": [
    "--- "
   ]
  },
  {
   "cell_type": "markdown",
   "metadata": {},
   "source": [
    "<a name=\"visualization\"></a>\n",
    "### FAIR assessment visualization"
   ]
  },
  {
   "cell_type": "code",
   "execution_count": null,
   "metadata": {},
   "outputs": [],
   "source": [
    "import numpy as np\n",
    "# create empty dataframe \n",
    "df = pd.DataFrame()\n",
    "\n",
    "data = {\n",
    "        \"F1\"    : F1,\n",
    "        \"F2\"    : F2,\n",
    "        \"F3\"    : F3,\n",
    "        \"F4\"    : F4,\n",
    "        \"A1\"    : A1,\n",
    "        \"A11\"   : A11,\n",
    "        \"A12\"   : A12, \n",
    "        \"A2\"    : A2,\n",
    "        \"I1\"    : I1,\n",
    "        \"I2\"    : I2,\n",
    "        \"I3\"    : I3,\n",
    "        \"R1\"    : R1,\n",
    "        \"R11\"   : R11,   \n",
    "        \"R12\"   : R12,     \n",
    "        \"R13\"   : R13,\n",
    "\n",
    "\n",
    "       }\n",
    "\n",
    "# create dataframe\n",
    "df = pd.DataFrame (data)\n",
    "\n",
    "# transpose for plotting (to be retranspose in plotting)\n",
    "df = df.T\n",
    "\n",
    "# change column names\n",
    "df.columns = ['TiO2']\n",
    "\n",
    "\n",
    "\n",
    "# add criteria for plotting\n",
    "principles         = [\"F\",      \"F\",         \"F\",         \"F\",      \"A\",         \"A\",         \"A\",         \"A\",         \"I\",       \"I\",             \"I\",      \"R\",         \"R\",         \"R\"          ,\"R\"]\n",
    "metric_names       = [\"F1\",     \"F2\",        \"F3\",        \"F4\",     \"A1\",        \"A11\",       \"A12\",       \"A2\",        \"I1\",      \"I2\",            \"I3\",     \"R1\",        \"R11\",       \"R12\"        ,\"R13\" ]\n",
    "retrieval_type     = [\"manual\", \"automatic\", \"automatic\", \"manual\", \"automatic\", \"automatic\", \"automatic\", \"automatic\", \"manual\",  \"N/A\",  \"manual\", \"automatic\", \"automatic\", \"automatic\" , \"N/A\" ]\n",
    "df[\"principles\"]     = principles\n",
    "df[\"metric_names\"]   = metric_names\n",
    "df[\"retrieval_type\"] = retrieval_type\n",
    "\n",
    "# display\n",
    "pd.set_option(\"display.max_rows\",df.shape[0])\n",
    "df"
   ]
  },
  {
   "cell_type": "code",
   "execution_count": null,
   "metadata": {},
   "outputs": [],
   "source": [
    "%%R -i df -w 6.5 -h 3.5 --units in -r 300 #-i df \n",
    "\n",
    "library(ggplot2)\n",
    "\n",
    "# variables\n",
    "y_values   <- seq(1, nrow(df))\n",
    "y_values   <- sort(y_values, decreasing = TRUE)\n",
    "n_of_cases <- ncol(df)-3\n",
    "#n_of_cases <- 4\n",
    "case_names <- rev(colnames(df)[1:n_of_cases])\n",
    "# font size\n",
    "title_text_size <- 12\n",
    "axis_text_size  <- 9\n",
    "tick_text_size  <- 8\n",
    "\n",
    "\n",
    "# initiate graph\n",
    "pl <- ggplot (data=df, aes(x=x_values1, y=y_values, color=principles, shape=retrieval_type))\n",
    "\n",
    "# add cases in for loop\n",
    "for (i in (1:n_of_cases)){\n",
    "\n",
    "    # create a new dataframe with what needed for the current repository\n",
    "    # (if one keeps indexes in geom_point, ggplot plots only the last very line - see https://stackoverflow.com/questions/18444620/set-layers-in-ggplot2-via-loop)\n",
    "    gg.data <- data.frame(current_df=df[i], x_values=rep(i, nrow(df)), principles=df$principles, retrieval_type=df$retrieval_type)\n",
    "   \n",
    "    # change specific column name (e.g.DANSEASY) to a generic name\n",
    "    colnames(gg.data)[1]<-\"dataset\"\n",
    "    \n",
    "    pl <- pl + \n",
    "          geom_point(data=gg.data, aes(x=x_values, y=y_values, size=dataset, color=principles, shape=retrieval_type)) + # add size, color, and shape\n",
    "          geom_point(data=gg.data, aes(x=x_values, y=y_values, size=dataset, fill=principles, shape=retrieval_type), alpha=0.5, show.legend = FALSE) # add fill but do not show the legend (it would be the same as for color)\n",
    "}\n",
    "\n",
    "# add layers to plot\n",
    "pl <- pl +\n",
    "        # change shapes to squares, circles, and crosses\n",
    "        scale_shape_manual(values = c(21,23,4)) +\n",
    "        # background\n",
    "        theme_bw() +  \n",
    "        # flip x and y\n",
    "        coord_flip()  +\n",
    "        # axis ticks\n",
    "        scale_x_reverse(limits=c(2.5,0.5), breaks=seq(2,1,-1),  labels=c(colnames(df)[2], colnames(df)[1])) + \n",
    "        scale_y_reverse(limits=c(15, 1),   breaks=seq(15,1,-1), labels=df$metric_names) + \n",
    "        theme(axis.text.x = element_text(size = tick_text_size)) + \n",
    "        theme(axis.text.y = element_text(size = tick_text_size)) +\n",
    "        # axis text\n",
    "        xlab (\"Use cases\") +\n",
    "        ylab (\"FAIR guidelines\") +\n",
    "        theme(text = element_text( size = axis_text_size)) + \n",
    "        # change colors for lines\n",
    "        scale_color_manual(values=c(\"#e31a1c\", \"#1f78b4\", \"#33a02c\", \"#ff7f00\") ,\n",
    "                           labels = c(\"F\", \"A\", \"I\", \"R\"),\n",
    "                           breaks = c(\"F\", \"A\", \"I\", \"R\")\n",
    "                          ) +  \n",
    "        # change colors for fills\n",
    "        scale_fill_manual(values=c(\"#e31a1c\", \"#1f78b4\", \"#33a02c\", \"#ff7f00\")) +\n",
    "        # title\n",
    "        ggtitle(\"FAIR maturity indicators\") +\n",
    "        theme(plot.title = element_text(size = title_text_size, hjust = 0.5))  +\n",
    "        # legend - colors\n",
    "        theme(legend.text = element_text(size=tick_text_size), legend.key.size = unit(0.2, \"cm\")) + \n",
    "        labs(color=\"\") +                             # no legend title   \n",
    "        labs(size=\"\")  +                             # no legend title \n",
    "        labs(shape=\"\") +                             # no legend title \n",
    "        theme (legend.spacing.x = unit(0.1, \"cm\"),   # reduce horizontal space between legends\n",
    "               legend.box = \"horizontal\",            # put legends next to each other\n",
    "               legend.direction = \"vertical\",        # \n",
    "               legend.position = \"bottom\",           # under the graph\n",
    "               legend.key.size = unit(1.3, 'lines'), # space better legend items\n",
    "               legend.margin=margin(c(1,7,1,1))) +   # margin around each legend \n",
    "        guides(color = guide_legend(order=2),        # change legend order\n",
    "               size  = guide_legend(order=1),\n",
    "               shape = guide_legend(order=3))\n",
    "        \n",
    "\n",
    "# display\n",
    "pl"
   ]
  },
  {
   "cell_type": "code",
   "execution_count": null,
   "metadata": {},
   "outputs": [],
   "source": [
    "%%R \n",
    "# requires the package \"svglite\" to save as svg\n",
    "#ggsave(\"outcome_comparison.svg\", plot = last_plot(), width=6.5, height=3.5, dpi=300) # comment if used in mybinder, uncomment if used locally "
   ]
  },
  {
   "cell_type": "markdown",
   "metadata": {},
   "source": [
    "---\n"
   ]
  },
  {
   "cell_type": "markdown",
   "metadata": {},
   "source": [
    "<a name=\"dependencies\"></a>\n",
    "## Dependencies "
   ]
  },
  {
   "cell_type": "code",
   "execution_count": null,
   "metadata": {},
   "outputs": [],
   "source": [
    "%reload_ext watermark\n",
    "%watermark -v -m -p bs4,os,pandas,requests,xml.etree.ElementTree,io\n",
    "print (\"\")\n",
    "%watermark -u -n -t -z"
   ]
  },
  {
   "cell_type": "code",
   "execution_count": null,
   "metadata": {},
   "outputs": [],
   "source": [
    "%%R\n",
    "sessionInfo()"
   ]
  },
  {
   "cell_type": "code",
   "execution_count": null,
   "metadata": {},
   "outputs": [],
   "source": [
    "%watermark -u -n -t -z"
   ]
  },
  {
   "cell_type": "markdown",
   "metadata": {},
   "source": [
    "---"
   ]
  },
  {
   "cell_type": "markdown",
   "metadata": {},
   "source": [
    "<a name=\"supplementary_information\"></a>\n",
    "## Supplementary information     "
   ]
  },
  {
   "cell_type": "markdown",
   "metadata": {},
   "source": [
    "#### Metadata of the dataset in xml:"
   ]
  },
  {
   "cell_type": "code",
   "execution_count": null,
   "metadata": {},
   "outputs": [],
   "source": [
    "for case_id in range (0, 2):\n",
    "\n",
    "    print (\"--> \" + repository_name[case_id] + \" :\")\n",
    "    pretty_print_xml(metadata_xml[case_id])\n",
    "    print (\" \")\n",
    "    print (\"---------------------------------------------------------------\")"
   ]
  },
  {
   "cell_type": "markdown",
   "metadata": {},
   "source": [
    "#### Metadata of the dataset in lists (no nesting):"
   ]
  },
  {
   "cell_type": "code",
   "execution_count": null,
   "metadata": {},
   "outputs": [],
   "source": [
    "for case_id in range (0, 2):\n",
    "\n",
    "    print (\"--> \" + repository_name[case_id] + \" :\")\n",
    "    \n",
    "    for a in range(0,len(metadata_list[case_id][0])):\n",
    "        print (metadata_list[case_id][0][a] + \": \" + metadata_list[case_id][1][a])\n",
    "    print (\" \")\n",
    "    print (\"---------------------------------------------------------------\")\n"
   ]
  },
  {
   "cell_type": "markdown",
   "metadata": {},
   "source": [
    "#### Metadata of the repositories in xml (no nesting):"
   ]
  },
  {
   "cell_type": "code",
   "execution_count": null,
   "metadata": {},
   "outputs": [],
   "source": [
    "for case_id in range (0, 2):\n",
    "\n",
    "    print (\"--> \" + repository_name[case_id] + \" :\")\n",
    "    pretty_print_xml(re3data_repo_root[case_id])\n",
    "    print (\" \")\n",
    "    print (\"---------------------------------------------------------------\")\n"
   ]
  },
  {
   "cell_type": "markdown",
   "metadata": {},
   "source": [
    "#### Metadata of the repositories in lists (no nesting):"
   ]
  },
  {
   "cell_type": "code",
   "execution_count": null,
   "metadata": {},
   "outputs": [],
   "source": [
    "for case_id in range (0, len(repository_name)):\n",
    "\n",
    "    print (\"--> \" + repository_name[case_id] + \" :\")\n",
    "    \n",
    "    \n",
    "    for a in range(0,len(re3data_metadata_list[case_id][0])):\n",
    "        print (re3data_metadata_list[case_id][0][a] + \": \" + re3data_metadata_list[case_id][1][a])\n",
    "    print (\" \")\n",
    "    print (\"---------------------------------------------------------------\")"
   ]
  }
 ],
 "metadata": {
  "kernelspec": {
   "display_name": "Python 3",
   "language": "python",
   "name": "python3"
  },
  "language_info": {
   "codemirror_mode": {
    "name": "ipython",
    "version": 3
   },
   "file_extension": ".py",
   "mimetype": "text/x-python",
   "name": "python",
   "nbconvert_exporter": "python",
   "pygments_lexer": "ipython3",
   "version": "3.7.6"
  },
  "toc-autonumbering": false,
  "toc-showcode": false,
  "toc-showmarkdowntxt": false,
  "toc-showtags": true
 },
 "nbformat": 4,
 "nbformat_minor": 4
}
