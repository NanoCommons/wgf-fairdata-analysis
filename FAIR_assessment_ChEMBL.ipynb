{
 "cells": [
  {
   "cell_type": "markdown",
   "metadata": {
    "toc-hr-collapsed": false
   },
   "source": [
    "# FAIR maturity indicators for nanosafety"
   ]
  },
  {
   "cell_type": "markdown",
   "metadata": {},
   "source": [
    "by [Ammar Ammar] (https://github.com/ammar257ammar), [Serena Bonaretti](https://sbonaretti.github.io) and [Egon Willighagen](https://egonw.github.io), Maastricht University"
   ]
  },
  {
   "cell_type": "markdown",
   "metadata": {
    "toc-hr-collapsed": true
   },
   "source": [
    "---\n",
    "### Use case"
   ]
  },
  {
   "cell_type": "markdown",
   "metadata": {},
   "source": [
    "This notebook template considers an example use cases of data retrieval in the nanosafety field. For each case, we\n",
    "- Execute data retrieval via API \n",
    "- Evaluate the FAIRness of the dataset\n",
    "\n",
    "This template is derived from [this Jupyter notebook](https://github.com/sbonaretti/FAIR_metrics/blob/master/code/FAIR_assessment_2.ipynb) which has two example use cases."
   ]
  },
  {
   "cell_type": "markdown",
   "metadata": {},
   "source": [
    "The use-cases is:\n",
    "\n",
    "\n",
    "<table>\n",
    "<colgroup>\n",
    "<col style=\"width: 20%\" />\n",
    "<col style=\"width: 80%\" /> \n",
    "</colgroup>\n",
    "    \n",
    "  <tr>\n",
    "    <th></th>\n",
    "    <th>TiO<sub>2</sub></th>\n",
    "  </tr>\n",
    "    \n",
    "  <tr>\n",
    "    <th>Research question</th>\n",
    "    <th>What does the database tell us about the safety of TiO<sub>2</sub>?</th>\n",
    "  </tr>\n",
    "  \n",
    "  <tr>\n",
    "    <th>Dataset</th>\n",
    "    <th>ChEMBL</th>\n",
    "  </tr>\n",
    "  \n",
    "  <tr>\n",
    "    <th>Repository</th>\n",
    "      <th><a href=\"https://www.ebi.ac.uk/chembl/\">ebi.ac.uk/chembl</a></th>\n",
    "  </tr>\n",
    "\n",
    "</table>\n",
    "\n",
    "\n"
   ]
  },
  {
   "cell_type": "markdown",
   "metadata": {},
   "source": [
    "Information about repository:\n",
    "- **Repository: ebi.ac.uk/chembl**:\n",
    "  - API: \n",
    "    - Documentation at https://www.ebi.ac.uk/chembl/api/data/docs\n",
    "    - The API to query the repository is a rest API: https://www.ebi.ac.uk/chembl/api/data/document/search\n"
   ]
  },
  {
   "cell_type": "markdown",
   "metadata": {},
   "source": [
    "---"
   ]
  },
  {
   "cell_type": "markdown",
   "metadata": {
    "toc-hr-collapsed": true
   },
   "source": [
    "### Calculating FAIR metrics"
   ]
  },
  {
   "cell_type": "markdown",
   "metadata": {},
   "source": [
    "[Prerequisites:](#prerequisites)  \n",
    "- [Imports](#imports)  \n",
    "- [Variables](#variables)  \n",
    "- [Functions](#functions)  \n",
    "\n",
    "[Retrieving datasets:](#retrieval)  \n",
    "- [Case: TEMPLATE: REPOSITORY](#Repository)\n",
    "\n",
    "[Retrieving repositories in www.re3data.org](#Retrieving_repositories_in_www.re3data.org)\n",
    "\n",
    "\n",
    "[FAIR assessment:](#metrics) \n",
    "- [F1. (Meta)data are assigned a globally unique and persistent identifier](#F1) \n",
    "- [F2. Data are described with rich metadata](#F2) \n",
    "- [F3. Metadata clearly and explicitly include the identifier of the data it describes](#F3)  \n",
    "- [F4. (Meta)data are registered or indexed in a searchable resource](#F4) \n",
    "- [A1. (Meta)data are retrievable by their identifier using a standardized communications protocol](#A1)    \n",
    "- [A1.1 The protocol is open, free, and universally implementable](#A11)   \n",
    "- [A1.2 The protocol allows for an authentication and authorization procedure, where necessary](#A12)   \n",
    "- [A2. Metadata are accessible, even when the data are no longer available](#A2)  \n",
    "- [I1. (Meta)data use a formal, accessible, shared, and broadly applicable language for knowledge representation](#I1) \n",
    "- [I2. Metadata use vocabularies that follow FAIR principles](#I2)  \n",
    "- [I3. (Meta)data include qualified references to other (meta)data](#I3)   \n",
    "- [R1.1. (Meta)data are released with a clear and accessible data usage license](#R11)  \n",
    "- [R1.2. (Meta)data are associated with detailed provenance](#R12)  \n",
    "- [R1.3. (Meta)data meet domain-relevant community standards](#R13)\n",
    "\n",
    "[FAIR assessment visualization](#visualization)\n",
    "\n",
    "[Dependencies](#dependencies)\n",
    "\n",
    "[Supplementary information](#supplementary_information)"
   ]
  },
  {
   "cell_type": "markdown",
   "metadata": {},
   "source": [
    "---"
   ]
  },
  {
   "cell_type": "markdown",
   "metadata": {},
   "source": [
    "<a name=\"prerequisites\"></a>\n",
    "### Prerequisites"
   ]
  },
  {
   "cell_type": "markdown",
   "metadata": {},
   "source": [
    "<a name=\"imports\"></a>\n",
    "#### Imports"
   ]
  },
  {
   "cell_type": "code",
   "execution_count": 29,
   "metadata": {},
   "outputs": [],
   "source": [
    "# import python packages\n",
    "import os\n",
    "import pandas as pd\n",
    "import requests\n",
    "import time\n",
    "import xml.etree.ElementTree as ET\n",
    "import json\n",
    "from io import StringIO\n",
    "import urllib.parse\n"
   ]
  },
  {
   "cell_type": "code",
   "execution_count": null,
   "metadata": {},
   "outputs": [],
   "source": [
    "# Import R for visualization using ggplot2 - comment if used in mybinder, uncomment if used locally\n",
    "#os.environ['R_HOME'] = '/Library/Frameworks/R.framework/Resources' # put here your own R directory "
   ]
  },
  {
   "cell_type": "code",
   "execution_count": null,
   "metadata": {},
   "outputs": [],
   "source": [
    "%load_ext rpy2.ipython"
   ]
  },
  {
   "cell_type": "markdown",
   "metadata": {},
   "source": [
    "<a name=\"variables\"></a>\n",
    "#### Variables"
   ]
  },
  {
   "cell_type": "code",
   "execution_count": 31,
   "metadata": {},
   "outputs": [],
   "source": [
    "# re3Data API\n",
    "re3data_repos    = \"https://www.re3data.org/api/v1/repositories\"\n",
    "re3data_repo     = \"https://www.re3data.org/api/v1/repository\"\n",
    "re3data_schema   = '{http://www.re3data.org/schema/2-2}' # in the metadata xml"
   ]
  },
  {
   "cell_type": "code",
   "execution_count": 32,
   "metadata": {},
   "outputs": [],
   "source": [
    "# repository variables\n",
    "repository_name  = []\n",
    "repository_api   = []\n",
    "dataset_download = []\n",
    "\n",
    "# TEMPLATE: REPOSITORY\n",
    "repository_name.append(\"ChEMBL\")\n",
    "repository_api.append(\"https://www.ebi.ac.uk/chembl/api/data/document/search?format=json&q=\")\n",
    "dataset_download.append(\"https://www.ebi.ac.uk/chembl/api/data/document/search?format=json&q=\")"
   ]
  },
  {
   "cell_type": "code",
   "execution_count": 33,
   "metadata": {},
   "outputs": [],
   "source": [
    "# case names\n",
    "case_names        = []\n",
    "case_names.append(\"titanium_dioxide\")"
   ]
  },
  {
   "cell_type": "code",
   "execution_count": 34,
   "metadata": {},
   "outputs": [],
   "source": [
    "# search keywords\n",
    "keywords = []\n",
    "\n",
    "# TEMPLATE: REPOSITORY\n",
    "kw = []\n",
    "kw.append(\"titanium dioxide\")\n",
    "keywords.append(kw)\n"
   ]
  },
  {
   "cell_type": "code",
   "execution_count": 35,
   "metadata": {},
   "outputs": [],
   "source": [
    "# output variables used for FAIR assessment\n",
    "\n",
    "request_status        = []\n",
    "metadata_xml          = [] \n",
    "metadata_list         = [] # list of lists. Dimension: n_of_cases x 1. \n",
    "                           # Inside each cell, list of dimension 2 x N. First row is tags, second row is text of the xml output containing metadata\n",
    "re3data_repo_root     = []\n",
    "re3data_metadata_list = [] # same structure as metadata_list\n",
    "n_of_found_keywords   = []\n",
    "dataset_title         = []\n",
    "\n",
    "F1  = []\n",
    "F2  = []\n",
    "F3  = []\n",
    "F4  = []\n",
    "A1  = []\n",
    "A11 = []\n",
    "A12 = []\n",
    "A2  = []\n",
    "I1  = []\n",
    "I2  = []\n",
    "I3  = []\n",
    "R1  = []\n",
    "R11 = []\n",
    "R12 = []\n",
    "R13 = []"
   ]
  },
  {
   "cell_type": "markdown",
   "metadata": {},
   "source": [
    "<a name=\"functions\"></a>\n",
    "#### Functions"
   ]
  },
  {
   "cell_type": "code",
   "execution_count": 36,
   "metadata": {},
   "outputs": [],
   "source": [
    "def find_repo_in_re3_data (repository_name):\n",
    "    \"\"\"\n",
    "    It retrieves metadata about the input repository in re3data.org\n",
    "    \"\"\"\n",
    "    \n",
    "    # contact the re3data\n",
    "    re3data_r = requests.get(re3data_repos)\n",
    "    if re3data_r == None:\n",
    "        return None\n",
    "    \n",
    "    # put output string in a structured xml tree\n",
    "    re3data_root = ET.fromstring(re3data_r.text)\n",
    "\n",
    "    # look for the wanted repository\n",
    "    flag = 0\n",
    "    for i in range (0, len(re3data_root)):\n",
    "        if re3data_root[i][1].text == repository_name: # first index is a <repository> group, \n",
    "                                                       # second index is for the tags inside (<id>, <name>, <link>)\n",
    "            flag = 1\n",
    "            repository_index = i\n",
    "\n",
    "    if flag == 1:   \n",
    "        \n",
    "        re3data_metadata_address = str(re3data_root[repository_index][2].attrib[\"href\"])\n",
    "        #print (\"Index in list: \" + str(repository_index))\n",
    "        #print (\"Tag          : \" + str(re3data_root[repository_index][1].tag))\n",
    "        #print (\"Text         : \" + str(re3data_root[repository_index][1].text))\n",
    "        #print (\"Tag          : \" + str(re3data_root[repository_index][2].tag))\n",
    "        #print (\"Attribute    : \" + str(re3data_root[repository_index][2].attrib)) # attributes do not have a closing tag\n",
    "\n",
    "    else: \n",
    "        print (\"Repository not found\")\n",
    "        return None\n",
    "        \n",
    "    return re3data_metadata_address"
   ]
  },
  {
   "cell_type": "code",
   "execution_count": 37,
   "metadata": {},
   "outputs": [],
   "source": [
    "def xml_to_list(root): \n",
    "\n",
    "    tag_list = []\n",
    "    text_list = []\n",
    "        \n",
    "    for elem in root.iter():\n",
    "        tag_list.append(elem.tag)\n",
    "        text = elem.text\n",
    "        if text:\n",
    "            text_list.append(text.strip())\n",
    "        else:\n",
    "            text_list.append(\"\")\n",
    "            text = \"\"\n",
    "        #print(\"We are adding element: \"+elem.tag + \" - with text: \"+text)\n",
    "    \n",
    "    #print(\"numbers: \" + str(len(tag_list)) + \"-\" + str(len(text_list)))\n",
    "    xml_list = [ tag_list, text_list ]\n",
    "    \n",
    "    return xml_list"
   ]
  },
  {
   "cell_type": "code",
   "execution_count": 38,
   "metadata": {},
   "outputs": [],
   "source": [
    "def json_to_list(root): \n",
    "\n",
    "    tag_list = []\n",
    "    text_list = []\n",
    "           \n",
    "    for attribute, value in root.items():\n",
    "        tag_list.append(attribute)\n",
    "        text_list.append(value)\n",
    "    \n",
    "    #print(\"numbers: \" + str(len(tag_list)) + \"-\" + str(len(text_list)))\n",
    "    json_list = [ tag_list, text_list ]\n",
    "    \n",
    "    return json_list"
   ]
  },
  {
   "cell_type": "code",
   "execution_count": 39,
   "metadata": {},
   "outputs": [],
   "source": [
    "def find_list_in_list(long_list, short_list):\n",
    "    \"\"\"\n",
    "    For each items of short_list, it looks in the long_list\n",
    "    It uses a \"for\" loop because it has to look also for parts of string\n",
    "    Inputs: \n",
    "     long_list: long list of strings\n",
    "     short_list: short list of strings\n",
    "    Outputs:\n",
    "     found: elements of short_list found in long_list\n",
    "     index: index of found elements in long_list   \n",
    "    \"\"\"\n",
    "    \n",
    "    found = []\n",
    "    index = []\n",
    "    for i in range(0, len(long_list)):\n",
    "        for j in range(0, len(short_list)):\n",
    "            \n",
    "            #print(\"compare: \"+long_list[i].lower() + \" TO \" + short_list[j].lower())\n",
    "            if str(long_list[i]).lower().find(str(short_list[j]).lower()) != -1 :\n",
    "                found.append(str(short_list[j]))\n",
    "                index.append(i)\n",
    "    return found, index"
   ]
  },
  {
   "cell_type": "markdown",
   "metadata": {},
   "source": [
    "---"
   ]
  },
  {
   "cell_type": "markdown",
   "metadata": {},
   "source": [
    "<a name=\"retrieval\"></a>\n",
    "### Retrieving datasets "
   ]
  },
  {
   "cell_type": "markdown",
   "metadata": {},
   "source": [
    "<a name=\"Repository\"></a>\n",
    "#### Case: TEMPLATE: REPOSITORY"
   ]
  },
  {
   "cell_type": "code",
   "execution_count": 40,
   "metadata": {},
   "outputs": [],
   "source": [
    "case_id = 0"
   ]
  },
  {
   "cell_type": "markdown",
   "metadata": {},
   "source": [
    "The below test assumes a certain API with parameters. For example, the below code uses `keywords`\n",
    "as API parameter to pass keywords. The template code likely needs updating."
   ]
  },
  {
   "cell_type": "code",
   "execution_count": 41,
   "metadata": {
    "scrolled": true
   },
   "outputs": [
    {
     "name": "stdout",
     "output_type": "stream",
     "text": [
      "https://www.ebi.ac.uk/chembl/api/data/document/search?format=json&q=titanium%20dioxide\n",
      "-> The time to retrieve the dataset was 0.33 seconds\n",
      "-> Request status 200 \n",
      "number of samples found: 20\n",
      "\n",
      "\n"
     ]
    },
    {
     "data": {
      "text/html": [
       "<div>\n",
       "<style scoped>\n",
       "    .dataframe tbody tr th:only-of-type {\n",
       "        vertical-align: middle;\n",
       "    }\n",
       "\n",
       "    .dataframe tbody tr th {\n",
       "        vertical-align: top;\n",
       "    }\n",
       "\n",
       "    .dataframe thead th {\n",
       "        text-align: right;\n",
       "    }\n",
       "</style>\n",
       "<table border=\"1\" class=\"dataframe\">\n",
       "  <thead>\n",
       "    <tr style=\"text-align: right;\">\n",
       "      <th></th>\n",
       "      <th>document_chembl_id</th>\n",
       "      <th>pubmed_id</th>\n",
       "      <th>authors</th>\n",
       "    </tr>\n",
       "  </thead>\n",
       "  <tbody>\n",
       "    <tr>\n",
       "      <th>0</th>\n",
       "      <td>CHEMBL1157425</td>\n",
       "      <td>18512988</td>\n",
       "      <td>Choquenet B, Couteau C, Paparis E, Coiffard LJ.</td>\n",
       "    </tr>\n",
       "    <tr>\n",
       "      <th>1</th>\n",
       "      <td>CHEMBL2346584</td>\n",
       "      <td>23434418</td>\n",
       "      <td>Sangshetti JN, Dharmadhikari PP, Chouthe RS, F...</td>\n",
       "    </tr>\n",
       "    <tr>\n",
       "      <th>2</th>\n",
       "      <td>CHEMBL1132950</td>\n",
       "      <td>11020280</td>\n",
       "      <td>Caruso F, Rossi M, Tanski J, Sartori R, Sarieg...</td>\n",
       "    </tr>\n",
       "    <tr>\n",
       "      <th>3</th>\n",
       "      <td>CHEMBL1130769</td>\n",
       "      <td>9871614</td>\n",
       "      <td>Kuang R, Venkataraman R, Ruan S, Groutas WC.</td>\n",
       "    </tr>\n",
       "    <tr>\n",
       "      <th>4</th>\n",
       "      <td>CHEMBL1133239</td>\n",
       "      <td>10915061</td>\n",
       "      <td>Ma J, Weiss E, Kyle DE, Ziffer H.</td>\n",
       "    </tr>\n",
       "    <tr>\n",
       "      <th>5</th>\n",
       "      <td>CHEMBL1122467</td>\n",
       "      <td>6827542</td>\n",
       "      <td>Chapman JM, Cocolas GH, Hall IH.</td>\n",
       "    </tr>\n",
       "    <tr>\n",
       "      <th>6</th>\n",
       "      <td>CHEMBL1137628</td>\n",
       "      <td>17933534</td>\n",
       "      <td>Chen CP, Zeiger AR, Wickstrom E.</td>\n",
       "    </tr>\n",
       "    <tr>\n",
       "      <th>7</th>\n",
       "      <td>CHEMBL1132905</td>\n",
       "      <td>10866388</td>\n",
       "      <td>Leclercq F, Dubertret C, Pitard B, Scherman D,...</td>\n",
       "    </tr>\n",
       "    <tr>\n",
       "      <th>8</th>\n",
       "      <td>CHEMBL1127661</td>\n",
       "      <td>8126711</td>\n",
       "      <td>Benedetti-Doctorovich V, Burgess EM, Lambropou...</td>\n",
       "    </tr>\n",
       "    <tr>\n",
       "      <th>9</th>\n",
       "      <td>CHEMBL1144360</td>\n",
       "      <td>15633996</td>\n",
       "      <td>Cerecetto H, González M, Lavaggi ML, Azqueta A...</td>\n",
       "    </tr>\n",
       "    <tr>\n",
       "      <th>10</th>\n",
       "      <td>CHEMBL1137602</td>\n",
       "      <td>17919904</td>\n",
       "      <td>Tanaka H, Shishido Y.</td>\n",
       "    </tr>\n",
       "    <tr>\n",
       "      <th>11</th>\n",
       "      <td>CHEMBL1149783</td>\n",
       "      <td>17566609</td>\n",
       "      <td>Salmi C, Loncle C, Vidal N, Letourneux Y, Brun...</td>\n",
       "    </tr>\n",
       "    <tr>\n",
       "      <th>12</th>\n",
       "      <td>CHEMBL1152690</td>\n",
       "      <td>19875298</td>\n",
       "      <td>Pearson MS, Floquet N, Bello C, Vogel P, Plant...</td>\n",
       "    </tr>\n",
       "    <tr>\n",
       "      <th>13</th>\n",
       "      <td>CHEMBL1132052</td>\n",
       "      <td>10201825</td>\n",
       "      <td>Yu KL, Civiello R, Roberts DG, Seiler SM, Mean...</td>\n",
       "    </tr>\n",
       "    <tr>\n",
       "      <th>14</th>\n",
       "      <td>CHEMBL1123814</td>\n",
       "      <td>3039137</td>\n",
       "      <td>Micetich RG, Maiti SN, Spevak P, Hall TW, Yama...</td>\n",
       "    </tr>\n",
       "    <tr>\n",
       "      <th>15</th>\n",
       "      <td>CHEMBL1133508</td>\n",
       "      <td>11063619</td>\n",
       "      <td>Ma J, Katz E, Kyle DE, Ziffer H.</td>\n",
       "    </tr>\n",
       "    <tr>\n",
       "      <th>16</th>\n",
       "      <td>CHEMBL1140288</td>\n",
       "      <td>15974581</td>\n",
       "      <td>Nguyen Van Nhien A, Tomassi C, Len C, Marco-Co...</td>\n",
       "    </tr>\n",
       "    <tr>\n",
       "      <th>17</th>\n",
       "      <td>CHEMBL1140456</td>\n",
       "      <td>17826998</td>\n",
       "      <td>Lory PM, Estrella-Jimenez ME, Shashack MJ, Lok...</td>\n",
       "    </tr>\n",
       "    <tr>\n",
       "      <th>18</th>\n",
       "      <td>CHEMBL1137713</td>\n",
       "      <td>18835067</td>\n",
       "      <td>Barazarte A, Lobo G, Gamboa N, Rodrigues JR, C...</td>\n",
       "    </tr>\n",
       "    <tr>\n",
       "      <th>19</th>\n",
       "      <td>CHEMBL1255519</td>\n",
       "      <td>20728353</td>\n",
       "      <td>Watanabe T, Kurata I, Hayashi C, Igarashi M, S...</td>\n",
       "    </tr>\n",
       "  </tbody>\n",
       "</table>\n",
       "</div>"
      ],
      "text/plain": [
       "   document_chembl_id  pubmed_id  \\\n",
       "0       CHEMBL1157425   18512988   \n",
       "1       CHEMBL2346584   23434418   \n",
       "2       CHEMBL1132950   11020280   \n",
       "3       CHEMBL1130769    9871614   \n",
       "4       CHEMBL1133239   10915061   \n",
       "5       CHEMBL1122467    6827542   \n",
       "6       CHEMBL1137628   17933534   \n",
       "7       CHEMBL1132905   10866388   \n",
       "8       CHEMBL1127661    8126711   \n",
       "9       CHEMBL1144360   15633996   \n",
       "10      CHEMBL1137602   17919904   \n",
       "11      CHEMBL1149783   17566609   \n",
       "12      CHEMBL1152690   19875298   \n",
       "13      CHEMBL1132052   10201825   \n",
       "14      CHEMBL1123814    3039137   \n",
       "15      CHEMBL1133508   11063619   \n",
       "16      CHEMBL1140288   15974581   \n",
       "17      CHEMBL1140456   17826998   \n",
       "18      CHEMBL1137713   18835067   \n",
       "19      CHEMBL1255519   20728353   \n",
       "\n",
       "                                              authors  \n",
       "0     Choquenet B, Couteau C, Paparis E, Coiffard LJ.  \n",
       "1   Sangshetti JN, Dharmadhikari PP, Chouthe RS, F...  \n",
       "2   Caruso F, Rossi M, Tanski J, Sartori R, Sarieg...  \n",
       "3        Kuang R, Venkataraman R, Ruan S, Groutas WC.  \n",
       "4                   Ma J, Weiss E, Kyle DE, Ziffer H.  \n",
       "5                    Chapman JM, Cocolas GH, Hall IH.  \n",
       "6                    Chen CP, Zeiger AR, Wickstrom E.  \n",
       "7   Leclercq F, Dubertret C, Pitard B, Scherman D,...  \n",
       "8   Benedetti-Doctorovich V, Burgess EM, Lambropou...  \n",
       "9   Cerecetto H, González M, Lavaggi ML, Azqueta A...  \n",
       "10                              Tanaka H, Shishido Y.  \n",
       "11  Salmi C, Loncle C, Vidal N, Letourneux Y, Brun...  \n",
       "12  Pearson MS, Floquet N, Bello C, Vogel P, Plant...  \n",
       "13  Yu KL, Civiello R, Roberts DG, Seiler SM, Mean...  \n",
       "14  Micetich RG, Maiti SN, Spevak P, Hall TW, Yama...  \n",
       "15                   Ma J, Katz E, Kyle DE, Ziffer H.  \n",
       "16  Nguyen Van Nhien A, Tomassi C, Len C, Marco-Co...  \n",
       "17  Lory PM, Estrella-Jimenez ME, Shashack MJ, Lok...  \n",
       "18  Barazarte A, Lobo G, Gamboa N, Rodrigues JR, C...  \n",
       "19  Watanabe T, Kurata I, Hayashi C, Igarashi M, S...  "
      ]
     },
     "execution_count": 41,
     "metadata": {},
     "output_type": "execute_result"
    }
   ],
   "source": [
    "# getting dataset\n",
    "start_time = time.time()\n",
    "print(repository_api[case_id]+urllib.parse.quote(keywords[case_id][0]))\n",
    "r_repo = requests.get(repository_api[case_id]+urllib.parse.quote(keywords[case_id][0]))\n",
    "\n",
    "print (\"-> The time to retrieve the dataset was %.2f seconds\" % ((time.time() - start_time)))\n",
    "print (\"-> Request status %.3s \" % (r_repo.status_code))\n",
    "\n",
    "# add request status\n",
    "request_status.append(r_repo.status_code)\n",
    "\n",
    "# convert answer from string to json\n",
    "results = json.loads(r_repo.text)\n",
    "\n",
    "results_all = results['documents']\n",
    "\n",
    "results_df = pd.DataFrame(results['documents'], columns=[\"document_chembl_id\", \"pubmed_id\", \"authors\"])\n",
    "\n",
    "print(\"number of samples found: \" + str (len(results['documents'])) + \"\\n\\n\")\n",
    "\n",
    "results_df"
   ]
  },
  {
   "cell_type": "code",
   "execution_count": 42,
   "metadata": {},
   "outputs": [
    {
     "name": "stdout",
     "output_type": "stream",
     "text": [
      "CHEMBL1157425\n"
     ]
    }
   ],
   "source": [
    "# look for experiment_id \n",
    "experiment_id = []\n",
    "\n",
    "experiment_id = results_df['document_chembl_id'].apply(str).tolist()\n",
    "\n",
    "print (experiment_id[0])"
   ]
  },
  {
   "cell_type": "code",
   "execution_count": 43,
   "metadata": {},
   "outputs": [],
   "source": [
    "# get metadata of dataset 1\n",
    "#experiment_id[0] = '86507520'\n",
    "\n",
    "metadata_list = []\n",
    "\n",
    "metadata_xml.append(results_all[0])\n",
    "metadata_list.append(json_to_list(results_all[0]))\n",
    "\n",
    "#print (pd.DataFrame(metadata_list).head(1000))"
   ]
  },
  {
   "cell_type": "code",
   "execution_count": 44,
   "metadata": {},
   "outputs": [
    {
     "name": "stdout",
     "output_type": "stream",
     "text": [
      "(2, 18)\n",
      "                                                   0  \\\n",
      "0  [abstract, authors, doc_type, document_chembl_...   \n",
      "\n",
      "                                                   1  \n",
      "0  [Given that flavonoids are known for their ult...  \n"
     ]
    }
   ],
   "source": [
    "\n",
    "print(pd.DataFrame(metadata_list[0]).shape)\n",
    "\n",
    "print(pd.DataFrame(metadata_list))\n"
   ]
  },
  {
   "cell_type": "markdown",
   "metadata": {},
   "source": [
    "<a name=\"Retrieving_repositories_in_www.re3data.org\"></a>\n",
    "### Retrieving repositories in www.re3data.org"
   ]
  },
  {
   "cell_type": "code",
   "execution_count": 45,
   "metadata": {},
   "outputs": [
    {
     "name": "stdout",
     "output_type": "stream",
     "text": [
      "- ChEMBL\n",
      "-> The time to retrieve the information was 2.56 seconds\n"
     ]
    }
   ],
   "source": [
    "start_time = time.time()\n",
    "\n",
    "for case_id in range (0, len(repository_name)):  \n",
    "    \n",
    "    print (\"- \" + repository_name[case_id])\n",
    "        \n",
    "    # extract repository metadata\n",
    "    re3data_metadata_address = find_repo_in_re3_data (repository_name[case_id])\n",
    "\n",
    "    if re3data_metadata_address != None:\n",
    "        # extract repository number \n",
    "        repository_number = re3data_metadata_address[re3data_metadata_address.rfind('/') : len(re3data_metadata_address)]\n",
    "\n",
    "        # metadata_url\n",
    "        metadata_url      = re3data_repo + str(repository_number)\n",
    "\n",
    "        # access the repository metadata \n",
    "        re3data_repo_r = requests.get(metadata_url)\n",
    "\n",
    "        # put the output string in a structured xml tree\n",
    "        re3data_repo_root.append(ET.fromstring(re3data_repo_r.text)) # saved if needed for pretty_print_xml visualization\n",
    "    \n",
    "        # put the output string in a list of lists\n",
    "        re3data_metadata_list.append(xml_to_list(re3data_repo_root[case_id]))\n",
    "       \n",
    "print (\"-> The time to retrieve the information was %.2f seconds\" % ((time.time() - start_time)))"
   ]
  },
  {
   "cell_type": "markdown",
   "metadata": {},
   "source": [
    "---"
   ]
  },
  {
   "cell_type": "markdown",
   "metadata": {},
   "source": [
    "<a name=\"metrics\"></a>\n",
    "### FAIR assessment"
   ]
  },
  {
   "cell_type": "markdown",
   "metadata": {},
   "source": [
    "---"
   ]
  },
  {
   "cell_type": "markdown",
   "metadata": {},
   "source": [
    "<a name=\"F1\"></a>\n",
    "#### F1. (Meta)data are assigned a globally unique and persistent identifier\n",
    "We used www.re3data.org to check whether the repository provides a globally unique and persistent identifier.  \n",
    "Because it is not possible to retrieve this information via API, we manually checked the \"doi\" icon at the top-right of each repository page. \n",
    "We manually assigned: \n",
    "- `1` when the hovered icon stated: *The research data repository uses DOI to make its provided data persistent, unique and citable* \n",
    "- `0` when the hovered icon stated: *The research data repository does not use a persistent identifier system*  "
   ]
  },
  {
   "cell_type": "code",
   "execution_count": 46,
   "metadata": {},
   "outputs": [
    {
     "name": "stdout",
     "output_type": "stream",
     "text": [
      "--> F1 are: [1]\n"
     ]
    }
   ],
   "source": [
    "\n",
    "F1.append(1) # information retrieved at: https://www.re3data.org/repository/r3d100010574\n",
    "\n",
    "# Print out F1 values\n",
    "print (\"--> F1 are: \" + str(F1) )"
   ]
  },
  {
   "cell_type": "markdown",
   "metadata": {},
   "source": [
    "---"
   ]
  },
  {
   "cell_type": "markdown",
   "metadata": {},
   "source": [
    "<a name=\"F2\"></a>\n",
    "#### F2. Data are described with rich metadata \n",
    "\n",
    "Metadata contain the keywords used in the query"
   ]
  },
  {
   "cell_type": "code",
   "execution_count": 47,
   "metadata": {},
   "outputs": [
    {
     "name": "stdout",
     "output_type": "stream",
     "text": [
      "18\n",
      "- ChEMBL\n",
      "    ['titanium dioxide']\n",
      "    Found 1 keywords\n",
      "--> F2: [1.0]\n"
     ]
    }
   ],
   "source": [
    "if (len(metadata_list) == 0):\n",
    "    F2.append(0)\n",
    "    print (\"    No registered with re3data.org\")\n",
    "else:\n",
    "    for case_id in range (0, len(repository_name)):\n",
    "    \n",
    "        print(len(metadata_list[case_id][1]))\n",
    "        # look for keywords in metadata text \n",
    "        output, index = find_list_in_list(metadata_list[case_id][1], keywords[case_id]) # metadata_list[0] is tags, metadata_list[1] is text\n",
    "    \n",
    "        # get unique found keywords (one keyword can be present more than once\n",
    "        found = list(set(output) ) \n",
    "\n",
    "        # print out found keywords\n",
    "        print (\"- \" + repository_name[case_id])\n",
    "        print (\"    \" + str(found))\n",
    "    \n",
    "        # n of keywords found - used in R1\n",
    "        n_of_found_keywords.append(len(found))\n",
    "\n",
    "        # assign F2\n",
    "        if len(found) == 0: # none of the search keywords are in the metafile data\n",
    "            F2.append(0)\n",
    "            print (\"    No keyword found\")\n",
    "        else:\n",
    "            F2.append(len(found)/len(keywords[case_id]))\n",
    "            print (\"    Found \" + str(len(found)) + \" keywords\")\n",
    "\n",
    "# print F2\n",
    "print (\"--> F2: \" + str(F2))"
   ]
  },
  {
   "cell_type": "markdown",
   "metadata": {},
   "source": [
    "---"
   ]
  },
  {
   "cell_type": "markdown",
   "metadata": {},
   "source": [
    "<a name=\"F3\"></a>\n",
    "#### F3. Metadata clearly and explicitly include the identifier of the data it describes  "
   ]
  },
  {
   "cell_type": "code",
   "execution_count": 48,
   "metadata": {},
   "outputs": [
    {
     "name": "stdout",
     "output_type": "stream",
     "text": [
      "- ChEMBL\n",
      "id: CHEMBL1157425\n",
      "--> F3: [1]\n"
     ]
    }
   ],
   "source": [
    "if (len(metadata_list) == 0):\n",
    "    F2.append(0)\n",
    "    print (\"    No registered with re3data.org\")\n",
    "else:\n",
    "    for case_id in range (0, len(repository_name)):\n",
    "    \n",
    "        # look for keywords in metadata tag\n",
    "        output, index = find_list_in_list(metadata_list[case_id][0], [\"id\"]) # metadata_list[0] is tags, metadata_list[1] is text\n",
    "        print (\"- \" + repository_name[case_id])\n",
    "    \n",
    "        # both in Parkinson_AE and NBIA_GEO metadata there are various \"id\" tags. The one that refers to the datset is the first (=> index[0])\n",
    "        print (\"id: \" + metadata_list[case_id][1][index[0]])\n",
    "    \n",
    "        F3.append(1)\n",
    "          \n",
    "print (\"--> F3: \" + str(F3) )"
   ]
  },
  {
   "cell_type": "markdown",
   "metadata": {},
   "source": [
    "---"
   ]
  },
  {
   "cell_type": "markdown",
   "metadata": {},
   "source": [
    "<a name=\"F4\"></a>\n",
    "#### F4. (Meta)data are registered or indexed in a searchable resource\n",
    "\n",
    "Manual search for the dataset title in [Google Dataset Search](https://toolbox.google.com/datasetsearch)"
   ]
  },
  {
   "cell_type": "code",
   "execution_count": 49,
   "metadata": {},
   "outputs": [
    {
     "name": "stdout",
     "output_type": "stream",
     "text": [
      "Dataset titles: \n",
      "titanium_dioxide: Journal of natural products.\n",
      "--> F4: [1]\n"
     ]
    }
   ],
   "source": [
    "# get dataset titles\n",
    "\n",
    "# TEMPLATE: REPOSITORY\n",
    "case_id = 0\n",
    "if (len(metadata_list) == 0):\n",
    "    print (\"    No registered with re3data.org\")\n",
    "else:\n",
    "    output, index = find_list_in_list(metadata_list[case_id][0], [\"title\"]) # metadata_list[0] is tags, metadata_list[1] is text\n",
    "    dataset_title.append(metadata_list[case_id][1][index[0]]) # there are 4 tags \"name\". the dataset title is the first (=> index[0])\n",
    "        \n",
    "    # print out\n",
    "    print (\"Dataset titles: \")\n",
    "    for i in range(0, len(dataset_title)): \n",
    "        print (case_names[i] + \": \"+ dataset_title[i])\n",
    "    \n",
    "# manually find dataset in Google Dataset Search\n",
    "F4.append(1)    # Parkinson_AE: https://toolbox.google.com/datasetsearch/search?query=Transcription%20profiling%20by%20array%20of%20human%20frontal%20cortex%20(area%208)%20from%20Parkinson%20disease%20cases%20and%20controls&docid=eYq%2F%2Bx3Qkyz18DYbAAAAAA%3D%3D\n",
    "\n",
    "print (\"--> F4: \" + str(F4) )"
   ]
  },
  {
   "cell_type": "markdown",
   "metadata": {},
   "source": [
    "---"
   ]
  },
  {
   "cell_type": "markdown",
   "metadata": {},
   "source": [
    "<a name=\"A1\"></a>\n",
    "#### A1. Metadata are retrievable by their identifier using a standardized communications protocol   \n",
    "\n",
    "In this implementation we retrieve information only via HTTP, so we check whether the request response is 200 (= site responding)"
   ]
  },
  {
   "cell_type": "code",
   "execution_count": 50,
   "metadata": {},
   "outputs": [
    {
     "name": "stdout",
     "output_type": "stream",
     "text": [
      "--> A1: [1]\n"
     ]
    }
   ],
   "source": [
    "# for all use cases\n",
    "for i in range(0, len(request_status)):\n",
    "    if request_status[i] == 200:\n",
    "        A1.append(1) \n",
    "    else:\n",
    "        A1.append(0)  \n",
    "\n",
    "print (\"--> A1: \" + str(A1)) "
   ]
  },
  {
   "cell_type": "markdown",
   "metadata": {},
   "source": [
    "<a name=\"A11\"></a>\n",
    "#### A1.1 The protocol is open, free, and universally implementable\n",
    "\n",
    "In this implementation we retrieve information only via HTTP, so if A1=1 then A11=1"
   ]
  },
  {
   "cell_type": "code",
   "execution_count": 51,
   "metadata": {},
   "outputs": [
    {
     "name": "stdout",
     "output_type": "stream",
     "text": [
      "--> A11: [1]\n"
     ]
    }
   ],
   "source": [
    "# for all use cases\n",
    "for case_id in range (0, len(A1)):\n",
    "    if A1[case_id] == 1:\n",
    "        A11.append(1)\n",
    "    else:\n",
    "        A11.append(None)\n",
    "        \n",
    "print (\"--> A11: \" + str(A11)) "
   ]
  },
  {
   "cell_type": "markdown",
   "metadata": {},
   "source": [
    "<a name=\"A12\"></a>\n",
    "#### A1.2 The protocol allows for an authentication and authorization procedure, where necessary\n",
    "In this implementation we retrieve information only via HTTP, so if A1=1 then A11=1"
   ]
  },
  {
   "cell_type": "code",
   "execution_count": 52,
   "metadata": {},
   "outputs": [
    {
     "name": "stdout",
     "output_type": "stream",
     "text": [
      "--> A12: [1]\n"
     ]
    }
   ],
   "source": [
    "# for all use cases\n",
    "for case_id in range (0, len(A1)):\n",
    "    if A1[case_id] == 1:\n",
    "        A12.append(1)\n",
    "    else:\n",
    "        A12.append(None)\n",
    "        \n",
    "print (\"--> A12: \" + str(A12)) "
   ]
  },
  {
   "cell_type": "markdown",
   "metadata": {
    "jupyter": {
     "source_hidden": true
    }
   },
   "source": [
    "<a name=\"A2\"></a>\n",
    "#### A2. Metadata are accessible, even when the data are no longer available  \n",
    "\n",
    "We look for `data availability policy` in the repository metadata extracted from www.re3data.org"
   ]
  },
  {
   "cell_type": "code",
   "execution_count": 53,
   "metadata": {},
   "outputs": [
    {
     "name": "stdout",
     "output_type": "stream",
     "text": [
      "- ChEMBL\n",
      "    Policy not found\n",
      "-> The time to retrieve the information was 0.00 seconds\n",
      "--> A2: [0]\n"
     ]
    }
   ],
   "source": [
    "start_time = time.time()\n",
    "\n",
    "for case_id in range (0, len(repository_name)):  \n",
    "    \n",
    "    print (\"- \" + repository_name[case_id])\n",
    "            \n",
    "    # find the policy\n",
    "    if len(re3data_metadata_list) == 0:\n",
    "        A2.append(0)\n",
    "    else:\n",
    "        output, index = find_list_in_list(re3data_metadata_list[case_id][1], [\"data availability  policy\"])\n",
    "        if len(index) != 0: \n",
    "            print (\"    Policy at: \" + re3data_metadata_list[case_id][1][index[0]+1]) # \n",
    "            A2.append(1)\n",
    "        else:\n",
    "            print (\"    Policy not found\")\n",
    "            A2.append(0)\n",
    "        \n",
    "print (\"-> The time to retrieve the information was %.2f seconds\" % ((time.time() - start_time)))\n",
    "\n",
    "print (\"--> A2: \" + str(A2)) "
   ]
  },
  {
   "cell_type": "markdown",
   "metadata": {},
   "source": [
    "---"
   ]
  },
  {
   "cell_type": "markdown",
   "metadata": {},
   "source": [
    "<a name=\"I1\"></a>\n",
    "#### I1. Metadata use a formal, accessible, shared, and broadly applicable language for knowledge representation \n",
    "\n",
    "We manually check the metadata format"
   ]
  },
  {
   "cell_type": "code",
   "execution_count": 54,
   "metadata": {},
   "outputs": [
    {
     "name": "stdout",
     "output_type": "stream",
     "text": [
      "--> I1: [1]\n"
     ]
    }
   ],
   "source": [
    "I1.append(1) # Parkinson_AE  : XML (https://www.ebi.ac.uk/arrayexpress/help/programmatic_access.html#Format_XML_results)\n",
    "\n",
    "print (\"--> I1: \" + str(I1) )    "
   ]
  },
  {
   "cell_type": "markdown",
   "metadata": {},
   "source": [
    "---"
   ]
  },
  {
   "cell_type": "markdown",
   "metadata": {},
   "source": [
    "<a name=\"I2\"></a>\n",
    "#### I2. Metadata use vocabularies that follow FAIR principles\n",
    "We did not assess this principle, so we assign `None` to the metric"
   ]
  },
  {
   "cell_type": "code",
   "execution_count": 55,
   "metadata": {},
   "outputs": [
    {
     "name": "stdout",
     "output_type": "stream",
     "text": [
      "--> I2: [-0.001]\n"
     ]
    }
   ],
   "source": [
    "# Parkinson_AE\n",
    "I2.append(-0.001) \n",
    "\n",
    "print (\"--> I2: \" + str(I2))"
   ]
  },
  {
   "cell_type": "markdown",
   "metadata": {},
   "source": [
    "---"
   ]
  },
  {
   "cell_type": "markdown",
   "metadata": {},
   "source": [
    "<a name=\"I3\"></a>\n",
    "#### I3. (Meta)data include qualified references to other (meta)data  \n",
    "Manually checked if there are references in metadata"
   ]
  },
  {
   "cell_type": "code",
   "execution_count": 56,
   "metadata": {},
   "outputs": [
    {
     "name": "stdout",
     "output_type": "stream",
     "text": [
      "--> I3: [1]\n"
     ]
    }
   ],
   "source": [
    "# Parkinson_AE\n",
    "I3.append(1)\n",
    "\n",
    "print (\"--> I3: \" + str(I3))"
   ]
  },
  {
   "cell_type": "markdown",
   "metadata": {},
   "source": [
    "---"
   ]
  },
  {
   "cell_type": "markdown",
   "metadata": {},
   "source": [
    "<a name=\"R1\"></a>\n",
    "#### R1 (meta)data are richly described with a plurality of accurate and relevant attributes \n",
    "Check if there are more metadata than the keywords used in F2"
   ]
  },
  {
   "cell_type": "code",
   "execution_count": 57,
   "metadata": {},
   "outputs": [
    {
     "name": "stdout",
     "output_type": "stream",
     "text": [
      "Number of metadata excluding keywords: 17\n",
      "--> R1: [1]\n"
     ]
    }
   ],
   "source": [
    "for case_id in range (0, len(repository_name)):\n",
    "    \n",
    "    if (len(metadata_list) > 0):\n",
    "        total_number_of_metadata = len(metadata_list[case_id][0])\n",
    "        remaining_metadata = total_number_of_metadata - n_of_found_keywords[case_id]\n",
    "    \n",
    "        if remaining_metadata > 0:\n",
    "            R1.append(1)\n",
    "            print (\"Number of metadata excluding keywords: \" + str(remaining_metadata))\n",
    "        else: \n",
    "            R1.append(0)\n",
    "    else:\n",
    "        R1.append(0)\n",
    "\n",
    "print (\"--> R1: \" + str(R1))"
   ]
  },
  {
   "cell_type": "markdown",
   "metadata": {},
   "source": [
    "---"
   ]
  },
  {
   "cell_type": "markdown",
   "metadata": {},
   "source": [
    "<a name=\"R11\"></a>\n",
    "#### R1.1. Metadata are released with a clear and accessible data usage license \n",
    "\n",
    "We look for `datalicensename` and `datalicenseurl` in the repository metadata extracted from www.re3data.org"
   ]
  },
  {
   "cell_type": "code",
   "execution_count": 58,
   "metadata": {},
   "outputs": [
    {
     "name": "stdout",
     "output_type": "stream",
     "text": [
      "- ChEMBL\n",
      "    License name: CC\n",
      "    License url : https://creativecommons.org/licenses/by-sa/3.0/\n",
      "    License name: other\n",
      "    License url : https://www.ebi.ac.uk/about\n",
      "--> R11: [1]\n"
     ]
    }
   ],
   "source": [
    "for case_id in range (0, len(repository_name)):\n",
    "\n",
    "    print (\"- \" + repository_name[case_id])\n",
    "   \n",
    "    if (len(re3data_metadata_list) > 0):\n",
    "        # find the policy and its url\n",
    "        output_name, index_name = find_list_in_list(re3data_metadata_list[case_id][0], [\"datalicensename\"])\n",
    "        output_url , index_url  = find_list_in_list(re3data_metadata_list[case_id][0], [\"datalicenseurl\"])\n",
    "        for i in range(0, len(index_name)): \n",
    "            print (\"    License name: \" + re3data_metadata_list[case_id][1][index_name[i]])\n",
    "            print (\"    License url : \" + re3data_metadata_list[case_id][1][index_url[i]])\n",
    "    \n",
    "        if output_url != []:\n",
    "            R11.append(1) \n",
    "        else: \n",
    "            R11.append(0)\n",
    "    else:\n",
    "        R11.append(0)\n",
    "\n",
    "print (\"--> R11: \" + str(R11)) \n",
    "\n"
   ]
  },
  {
   "cell_type": "markdown",
   "metadata": {},
   "source": [
    "---"
   ]
  },
  {
   "cell_type": "markdown",
   "metadata": {},
   "source": [
    "<a name=\"R12\"></a>\n",
    "#### R1.2. (Meta)data are associated with detailed provenance  \n",
    "\n",
    "We check whether the dataset metadata contain `authors`, `email` of at least one author, and `title` of related publication "
   ]
  },
  {
   "cell_type": "code",
   "execution_count": 59,
   "metadata": {},
   "outputs": [
    {
     "name": "stdout",
     "output_type": "stream",
     "text": [
      "- ChEMBL\n",
      "    authors: Choquenet B, Couteau C, Paparis E, Coiffard LJ.\n",
      "    title: Journal of natural products.\n",
      "--> R12: [0.5]\n"
     ]
    }
   ],
   "source": [
    "for case_id in range (0, len(repository_name)):\n",
    "    \n",
    "    print (\"- \" + repository_name[case_id])\n",
    "    \n",
    "    # counter \n",
    "    provenance = 0\n",
    "    \n",
    "    if len(metadata_list) > 0:\n",
    "        # author names\n",
    "        output, index = find_list_in_list(metadata_list[case_id][0], [\"authors\"]) # metadata_list[0] is tags, metadata_list[1] is text\n",
    "        if index != []:\n",
    "            print (\"    authors: \" + metadata_list[case_id][1][index[0]])\n",
    "            provenance = provenance + 1\n",
    "    \n",
    "        # author email\n",
    "        output, index = find_list_in_list(metadata_list[case_id][0], [\"email\"]) # metadata_list[0] is tags, metadata_list[1] is text\n",
    "        if len(index) != 0:\n",
    "            print (\"    email: \" + metadata_list[case_id][1][index[0]])\n",
    "            provenance = provenance + 1\n",
    "    \n",
    "        # publication title\n",
    "        output, index = find_list_in_list(metadata_list[case_id][0], [\"title\"]) # metadata_list[0] is tags, metadata_list[1] is text\n",
    "        if index != []:\n",
    "            print (\"    title: \" + metadata_list[case_id][1][index[0]])\n",
    "            provenance = provenance + 1\n",
    "    \n",
    "        # calculate R12\n",
    "        if provenance == 3:\n",
    "            R12.append(1)\n",
    "        elif provenance == 0: \n",
    "            R12.append(0)\n",
    "        else:\n",
    "            R12.append(0.5)\n",
    "    else:\n",
    "        R12.append(0)\n",
    "\n",
    "print (\"--> R12: \" + str(R12))"
   ]
  },
  {
   "cell_type": "markdown",
   "metadata": {},
   "source": [
    "---"
   ]
  },
  {
   "cell_type": "markdown",
   "metadata": {},
   "source": [
    "<a name=\"R13\"></a>\n",
    "#### R1.3. (Meta)data meet domain-relevant community standards\n",
    "We do not evaluate this metric because of current lack of community standards. We assign `None` to the metric"
   ]
  },
  {
   "cell_type": "code",
   "execution_count": 60,
   "metadata": {},
   "outputs": [
    {
     "name": "stdout",
     "output_type": "stream",
     "text": [
      "--> R13: [-0.001]\n"
     ]
    }
   ],
   "source": [
    "# Parkinson_AE\n",
    "R13.append(-0.001)\n",
    "\n",
    "print (\"--> R13: \" + str(R13))"
   ]
  },
  {
   "cell_type": "markdown",
   "metadata": {},
   "source": [
    "--- "
   ]
  },
  {
   "cell_type": "markdown",
   "metadata": {},
   "source": [
    "<a name=\"visualization\"></a>\n",
    "### FAIR assessment visualization"
   ]
  },
  {
   "cell_type": "code",
   "execution_count": 61,
   "metadata": {},
   "outputs": [
    {
     "data": {
      "text/html": [
       "<div>\n",
       "<style scoped>\n",
       "    .dataframe tbody tr th:only-of-type {\n",
       "        vertical-align: middle;\n",
       "    }\n",
       "\n",
       "    .dataframe tbody tr th {\n",
       "        vertical-align: top;\n",
       "    }\n",
       "\n",
       "    .dataframe thead th {\n",
       "        text-align: right;\n",
       "    }\n",
       "</style>\n",
       "<table border=\"1\" class=\"dataframe\">\n",
       "  <thead>\n",
       "    <tr style=\"text-align: right;\">\n",
       "      <th></th>\n",
       "      <th>TiO2_ChEMBL</th>\n",
       "      <th>principles</th>\n",
       "      <th>metric_names</th>\n",
       "      <th>retrieval_type</th>\n",
       "    </tr>\n",
       "  </thead>\n",
       "  <tbody>\n",
       "    <tr>\n",
       "      <th>F1</th>\n",
       "      <td>1.000</td>\n",
       "      <td>F</td>\n",
       "      <td>F1</td>\n",
       "      <td>manual</td>\n",
       "    </tr>\n",
       "    <tr>\n",
       "      <th>F2</th>\n",
       "      <td>1.000</td>\n",
       "      <td>F</td>\n",
       "      <td>F2</td>\n",
       "      <td>automatic</td>\n",
       "    </tr>\n",
       "    <tr>\n",
       "      <th>F3</th>\n",
       "      <td>1.000</td>\n",
       "      <td>F</td>\n",
       "      <td>F3</td>\n",
       "      <td>automatic</td>\n",
       "    </tr>\n",
       "    <tr>\n",
       "      <th>F4</th>\n",
       "      <td>1.000</td>\n",
       "      <td>F</td>\n",
       "      <td>F4</td>\n",
       "      <td>manual</td>\n",
       "    </tr>\n",
       "    <tr>\n",
       "      <th>A1</th>\n",
       "      <td>1.000</td>\n",
       "      <td>A</td>\n",
       "      <td>A1</td>\n",
       "      <td>automatic</td>\n",
       "    </tr>\n",
       "    <tr>\n",
       "      <th>A11</th>\n",
       "      <td>1.000</td>\n",
       "      <td>A</td>\n",
       "      <td>A11</td>\n",
       "      <td>automatic</td>\n",
       "    </tr>\n",
       "    <tr>\n",
       "      <th>A12</th>\n",
       "      <td>1.000</td>\n",
       "      <td>A</td>\n",
       "      <td>A12</td>\n",
       "      <td>automatic</td>\n",
       "    </tr>\n",
       "    <tr>\n",
       "      <th>A2</th>\n",
       "      <td>0.000</td>\n",
       "      <td>A</td>\n",
       "      <td>A2</td>\n",
       "      <td>automatic</td>\n",
       "    </tr>\n",
       "    <tr>\n",
       "      <th>I1</th>\n",
       "      <td>1.000</td>\n",
       "      <td>I</td>\n",
       "      <td>I1</td>\n",
       "      <td>manual</td>\n",
       "    </tr>\n",
       "    <tr>\n",
       "      <th>I2</th>\n",
       "      <td>-0.001</td>\n",
       "      <td>I</td>\n",
       "      <td>I2</td>\n",
       "      <td>N/A</td>\n",
       "    </tr>\n",
       "    <tr>\n",
       "      <th>I3</th>\n",
       "      <td>1.000</td>\n",
       "      <td>I</td>\n",
       "      <td>I3</td>\n",
       "      <td>manual</td>\n",
       "    </tr>\n",
       "    <tr>\n",
       "      <th>R1</th>\n",
       "      <td>1.000</td>\n",
       "      <td>R</td>\n",
       "      <td>R1</td>\n",
       "      <td>automatic</td>\n",
       "    </tr>\n",
       "    <tr>\n",
       "      <th>R11</th>\n",
       "      <td>1.000</td>\n",
       "      <td>R</td>\n",
       "      <td>R11</td>\n",
       "      <td>automatic</td>\n",
       "    </tr>\n",
       "    <tr>\n",
       "      <th>R12</th>\n",
       "      <td>0.500</td>\n",
       "      <td>R</td>\n",
       "      <td>R12</td>\n",
       "      <td>automatic</td>\n",
       "    </tr>\n",
       "    <tr>\n",
       "      <th>R13</th>\n",
       "      <td>-0.001</td>\n",
       "      <td>R</td>\n",
       "      <td>R13</td>\n",
       "      <td>N/A</td>\n",
       "    </tr>\n",
       "  </tbody>\n",
       "</table>\n",
       "</div>"
      ],
      "text/plain": [
       "     TiO2_ChEMBL principles metric_names retrieval_type\n",
       "F1         1.000          F           F1         manual\n",
       "F2         1.000          F           F2      automatic\n",
       "F3         1.000          F           F3      automatic\n",
       "F4         1.000          F           F4         manual\n",
       "A1         1.000          A           A1      automatic\n",
       "A11        1.000          A          A11      automatic\n",
       "A12        1.000          A          A12      automatic\n",
       "A2         0.000          A           A2      automatic\n",
       "I1         1.000          I           I1         manual\n",
       "I2        -0.001          I           I2            N/A\n",
       "I3         1.000          I           I3         manual\n",
       "R1         1.000          R           R1      automatic\n",
       "R11        1.000          R          R11      automatic\n",
       "R12        0.500          R          R12      automatic\n",
       "R13       -0.001          R          R13            N/A"
      ]
     },
     "execution_count": 61,
     "metadata": {},
     "output_type": "execute_result"
    }
   ],
   "source": [
    "import numpy as np\n",
    "# create empty dataframe \n",
    "df = pd.DataFrame()\n",
    "\n",
    "data = {\n",
    "        \"F1\"    : F1,\n",
    "        \"F2\"    : F2,\n",
    "        \"F3\"    : F3,\n",
    "        \"F4\"    : F4,\n",
    "        \"A1\"    : A1,\n",
    "        \"A11\"   : A11,\n",
    "        \"A12\"   : A12, \n",
    "        \"A2\"    : A2,\n",
    "        \"I1\"    : I1,\n",
    "        \"I2\"    : I2,\n",
    "        \"I3\"    : I3,\n",
    "        \"R1\"    : R1,\n",
    "        \"R11\"   : R11,   \n",
    "        \"R12\"   : R12,     \n",
    "        \"R13\"   : R13,\n",
    "\n",
    "\n",
    "       }\n",
    "\n",
    "# create dataframe\n",
    "df = pd.DataFrame (data)\n",
    "\n",
    "# transpose for plotting (to be retranspose in plotting)\n",
    "df = df.T\n",
    "\n",
    "# change column names\n",
    "df.columns = ['TiO2_ChEMBL']\n",
    "\n",
    "\n",
    "\n",
    "# add criteria for plotting\n",
    "principles         = [\"F\",      \"F\",         \"F\",         \"F\",      \"A\",         \"A\",         \"A\",         \"A\",         \"I\",       \"I\",             \"I\",      \"R\",         \"R\",         \"R\"          ,\"R\"]\n",
    "metric_names       = [\"F1\",     \"F2\",        \"F3\",        \"F4\",     \"A1\",        \"A11\",       \"A12\",       \"A2\",        \"I1\",      \"I2\",            \"I3\",     \"R1\",        \"R11\",       \"R12\"        ,\"R13\" ]\n",
    "retrieval_type     = [\"manual\", \"automatic\", \"automatic\", \"manual\", \"automatic\", \"automatic\", \"automatic\", \"automatic\", \"manual\",  \"N/A\",  \"manual\", \"automatic\", \"automatic\", \"automatic\" , \"N/A\" ]\n",
    "df[\"principles\"]     = principles\n",
    "df[\"metric_names\"]   = metric_names\n",
    "df[\"retrieval_type\"] = retrieval_type\n",
    "\n",
    "# display\n",
    "pd.set_option(\"display.max_rows\",df.shape[0])\n",
    "df"
   ]
  },
  {
   "cell_type": "code",
   "execution_count": 62,
   "metadata": {},
   "outputs": [
    {
     "name": "stderr",
     "output_type": "stream",
     "text": [
      "R[write to console]: Saving 6.5 x 3.5 in image\n",
      "\n"
     ]
    },
    {
     "data": {
      "image/png": "[encoded data removed]"
     },
     "metadata": {},
     "output_type": "display_data"
    }
   ],
   "source": [
    "%%R -i df -w 6.5 -h 3.5 --units in -r 300 #-i df \n",
    "\n",
    "library(ggplot2)\n",
    "\n",
    "# variables\n",
    "y_values   <- seq(1, nrow(df))\n",
    "y_values   <- sort(y_values, decreasing = TRUE)\n",
    "n_of_cases <- ncol(df)-3\n",
    "#n_of_cases <- 4\n",
    "case_names <- rev(colnames(df)[1:n_of_cases])\n",
    "# font size\n",
    "title_text_size <- 12\n",
    "axis_text_size  <- 9\n",
    "tick_text_size  <- 8\n",
    "\n",
    "# initiate graph\n",
    "pl <- ggplot (data=df, aes(x=x_values1, y=y_values, color=principles, shape=retrieval_type))\n",
    "\n",
    "# add cases in for loop\n",
    "for (i in (1:n_of_cases)){\n",
    "\n",
    "    # create a new dataframe with what needed for the current repository\n",
    "    # (if one keeps indexes in geom_point, ggplot plots only the last very line - see https://stackoverflow.com/questions/18444620/set-layers-in-ggplot2-via-loop)\n",
    "    gg.data <- data.frame(current_df=df[i], x_values=rep(i, nrow(df)), principles=df$principles, retrieval_type=df$retrieval_type)\n",
    "   \n",
    "    # change specific column name (e.g.DANSEASY) to a generic name\n",
    "    colnames(gg.data)[1]<-\"dataset\"\n",
    "    \n",
    "    pl <- pl + \n",
    "          geom_point(data=gg.data, aes(x=x_values, y=y_values, size=dataset, color=principles, shape=retrieval_type)) + # add size, color, and shape\n",
    "          geom_point(data=gg.data, aes(x=x_values, y=y_values, size=dataset, fill=principles, shape=retrieval_type), alpha=0.5, show.legend = FALSE) # add fill but do not show the legend (it would be the same as for color)\n",
    "}\n",
    "\n",
    "# add layers to plot\n",
    "pl <- pl +\n",
    "        # change shapes to squares, circles, and crosses\n",
    "        scale_shape_manual(values = c(21,23,4)) +\n",
    "        # background\n",
    "        theme_bw() +  \n",
    "        # flip x and y\n",
    "        coord_flip()  +\n",
    "        # axis ticks\n",
    "        scale_x_reverse(limits=c(2.5,0.5), breaks=seq(n_of_cases,1,-1),  labels=c(colnames(df)[n_of_cases:1])) +  \n",
    "        scale_y_reverse(limits=c(15, 1),   breaks=seq(15,1,-1), labels=df$metric_names) + \n",
    "        theme(axis.text.x = element_text(size = tick_text_size)) + \n",
    "        theme(axis.text.y = element_text(size = tick_text_size)) +\n",
    "        # axis text\n",
    "        xlab (\"Use cases\") +\n",
    "        ylab (\"FAIR guidelines\") +\n",
    "        theme(text = element_text( size = axis_text_size)) + \n",
    "        # change colors for lines\n",
    "        scale_color_manual(values=c(\"#e31a1c\", \"#1f78b4\", \"#33a02c\", \"#ff7f00\") ,\n",
    "                           labels = c(\"F\", \"A\", \"I\", \"R\"),\n",
    "                           breaks = c(\"F\", \"A\", \"I\", \"R\")\n",
    "                          ) +  \n",
    "        # change colors for fills\n",
    "        scale_fill_manual(values=c(\"#e31a1c\", \"#1f78b4\", \"#33a02c\", \"#ff7f00\")) +\n",
    "        # title\n",
    "        ggtitle(\"FAIR maturity indicators\") +\n",
    "        theme(plot.title = element_text(size = title_text_size, hjust = 0.5))  +\n",
    "        # legend - colors\n",
    "        theme(legend.text = element_text(size=tick_text_size), legend.key.size = unit(0.2, \"cm\")) + \n",
    "        labs(color=\"\") +                             # no legend title   \n",
    "        labs(size=\"\")  +                             # no legend title \n",
    "        labs(shape=\"\") +                             # no legend title \n",
    "        theme (legend.spacing.x = unit(0.1, \"cm\"),   # reduce horizontal space between legends\n",
    "               legend.box = \"horizontal\",            # put legends next to each other\n",
    "               legend.direction = \"vertical\",        # \n",
    "               legend.position = \"bottom\",           # under the graph\n",
    "               legend.key.size = unit(1.3, 'lines'), # space better legend items\n",
    "               legend.margin=margin(c(1,7,1,1))) +   # margin around each legend \n",
    "        guides(color = guide_legend(order=2),        # change legend order\n",
    "               size  = guide_legend(order=1),\n",
    "               shape = guide_legend(order=3))\n",
    "        \n",
    "\n",
    "# display\n",
    "ggsave(\"chembl.png\", plot = pl)\n",
    "\n",
    "pl"
   ]
  },
  {
   "cell_type": "code",
   "execution_count": null,
   "metadata": {},
   "outputs": [],
   "source": [
    "%%R \n",
    "# requires the package \"svglite\" to save as svg\n",
    "#ggsave(\"outcome_comparison.svg\", plot = last_plot(), width=6.5, height=3.5, dpi=300) # comment if used in mybinder, uncomment if used locally "
   ]
  },
  {
   "cell_type": "markdown",
   "metadata": {},
   "source": [
    "---\n"
   ]
  },
  {
   "cell_type": "markdown",
   "metadata": {},
   "source": [
    "<a name=\"dependencies\"></a>\n",
    "## Dependencies "
   ]
  },
  {
   "cell_type": "code",
   "execution_count": null,
   "metadata": {},
   "outputs": [],
   "source": [
    "%reload_ext watermark\n",
    "%watermark -v -m -p bs4,os,pandas,requests,xml.etree.ElementTree,io\n",
    "print (\"\")\n",
    "%watermark -u -n -t -z"
   ]
  },
  {
   "cell_type": "code",
   "execution_count": null,
   "metadata": {},
   "outputs": [],
   "source": [
    "%%R\n",
    "sessionInfo()"
   ]
  },
  {
   "cell_type": "code",
   "execution_count": null,
   "metadata": {},
   "outputs": [],
   "source": [
    "%watermark -u -n -t -z"
   ]
  },
  {
   "cell_type": "markdown",
   "metadata": {},
   "source": [
    "---"
   ]
  },
  {
   "cell_type": "markdown",
   "metadata": {},
   "source": [
    "<a name=\"supplementary_information\"></a>\n",
    "## Supplementary information     "
   ]
  },
  {
   "cell_type": "markdown",
   "metadata": {},
   "source": [
    "#### Metadata of the dataset in xml:"
   ]
  },
  {
   "cell_type": "code",
   "execution_count": null,
   "metadata": {},
   "outputs": [],
   "source": [
    "for case_id in range (0, 2):\n",
    "\n",
    "    print (\"--> \" + repository_name[case_id] + \" :\")\n",
    "    pretty_print_xml(metadata_xml[case_id])\n",
    "    print (\" \")\n",
    "    print (\"---------------------------------------------------------------\")"
   ]
  },
  {
   "cell_type": "markdown",
   "metadata": {},
   "source": [
    "#### Metadata of the dataset in lists (no nesting):"
   ]
  },
  {
   "cell_type": "code",
   "execution_count": null,
   "metadata": {},
   "outputs": [],
   "source": [
    "for case_id in range (0, 2):\n",
    "\n",
    "    print (\"--> \" + repository_name[case_id] + \" :\")\n",
    "    \n",
    "    for a in range(0,len(metadata_list[case_id][0])):\n",
    "        print (metadata_list[case_id][0][a] + \": \" + metadata_list[case_id][1][a])\n",
    "    print (\" \")\n",
    "    print (\"---------------------------------------------------------------\")\n"
   ]
  },
  {
   "cell_type": "markdown",
   "metadata": {},
   "source": [
    "#### Metadata of the repositories in xml (no nesting):"
   ]
  },
  {
   "cell_type": "code",
   "execution_count": null,
   "metadata": {},
   "outputs": [],
   "source": [
    "for case_id in range (0, 2):\n",
    "\n",
    "    print (\"--> \" + repository_name[case_id] + \" :\")\n",
    "    pretty_print_xml(re3data_repo_root[case_id])\n",
    "    print (\" \")\n",
    "    print (\"---------------------------------------------------------------\")\n"
   ]
  },
  {
   "cell_type": "markdown",
   "metadata": {},
   "source": [
    "#### Metadata of the repositories in lists (no nesting):"
   ]
  },
  {
   "cell_type": "code",
   "execution_count": null,
   "metadata": {},
   "outputs": [],
   "source": [
    "for case_id in range (0, len(repository_name)):\n",
    "\n",
    "    print (\"--> \" + repository_name[case_id] + \" :\")\n",
    "    \n",
    "    \n",
    "    for a in range(0,len(re3data_metadata_list[case_id][0])):\n",
    "        print (re3data_metadata_list[case_id][0][a] + \": \" + re3data_metadata_list[case_id][1][a])\n",
    "    print (\" \")\n",
    "    print (\"---------------------------------------------------------------\")"
   ]
  }
 ],
 "metadata": {
  "kernelspec": {
   "display_name": "Python 3",
   "language": "python",
   "name": "python3"
  },
  "language_info": {
   "codemirror_mode": {
    "name": "ipython",
    "version": 3
   },
   "file_extension": ".py",
   "mimetype": "text/x-python",
   "name": "python",
   "nbconvert_exporter": "python",
   "pygments_lexer": "ipython3",
   "version": "3.7.6"
  },
  "toc-autonumbering": false,
  "toc-showcode": false,
  "toc-showmarkdowntxt": false,
  "toc-showtags": true
 },
 "nbformat": 4,
 "nbformat_minor": 4
}
